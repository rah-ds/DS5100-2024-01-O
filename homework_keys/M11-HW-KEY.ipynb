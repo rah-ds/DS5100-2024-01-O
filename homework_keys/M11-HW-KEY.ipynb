{
 "cells": [
  {
   "cell_type": "markdown",
   "id": "616fca48-6d8d-4b45-82d8-15c3aaed2ae7",
   "metadata": {},
   "source": [
    "# Metadata\n",
    "\n",
    "```         \n",
    "Course:   DS 5100\n",
    "Module:   11 R Programming 2\n",
    "Topic:    HW on Tidyverse\n",
    "Author:   R.C. Alvarado (adapted)\n",
    "Date:     7 July 2023 (revised)\n",
    "```"
   ]
  },
  {
   "cell_type": "markdown",
   "id": "ede48ee7-cd1e-4825-9850-f3cd7bc37fb0",
   "metadata": {},
   "source": [
    "# Student Info\n",
    "\n",
    "```         \n",
    "Name:  \n",
    "Net ID:\n",
    "File GitHub URL:\n",
    "```"
   ]
  },
  {
   "cell_type": "markdown",
   "id": "84ba211e-c529-4547-9bb4-0d3ad5a74fc5",
   "metadata": {},
   "source": [
    "# Instructions\n",
    "\n",
    "In your **private course repo** use this notebook to write code that\n",
    "performs the tasks below.\n",
    "\n",
    "Save your notebook in the `M11` directory.\n",
    "\n",
    "Remember to add and commit these files to your repo.\n",
    "\n",
    "Then push your commits to your repo on GitHib.\n",
    "\n",
    "Be sure to fill out the **Student Info** block above.\n",
    "\n",
    "To submit your homework, save your results as a PDF and upload it to\n",
    "GradeScope."
   ]
  },
  {
   "cell_type": "markdown",
   "id": "2a1c89ba-1fc9-4202-9d92-284d0eb2c034",
   "metadata": {},
   "source": [
    "# Overview\n",
    "\n",
    "In this homework, you will work with [the Abalone\n",
    "dataset](https://archive.ics.uci.edu/ml/datasets/Abalone) from the UCI\n",
    "Machine Learning Repository.\n",
    "\n",
    "To get started, download and import the `abalone.data` dataset from this\n",
    "URL:\n",
    "\n",
    "-   <https://archive.ics.uci.edu/ml/machine-learning-databases/abalone/abalone.data>\n",
    "\n",
    "You can pass the URL directly to `read.csv()` and that there is no\n",
    "header row.\n",
    "\n",
    "Note: The instruction to print in the questions below can be\n",
    "accomplished either through the `print()` function or by displaying a\n",
    "value directly.\n",
    "\n",
    "**TOTAL POINTS: 7**"
   ]
  },
  {
   "cell_type": "markdown",
   "id": "d5a4d704-0dd6-4aa0-a27c-12e96ab68769",
   "metadata": {
    "tags": []
   },
   "source": [
    "# Tasks\n",
    "\n",
    "## Task 0\n",
    "\n",
    "(0 points)\n",
    "\n",
    "Get the dataset."
   ]
  },
  {
   "cell_type": "code",
   "execution_count": 3,
   "id": "466a8f0a-7845-41f2-b151-45db7efc5278",
   "metadata": {
    "tags": []
   },
   "outputs": [
    {
     "name": "stderr",
     "output_type": "stream",
     "text": [
      "── \u001b[1mAttaching core tidyverse packages\u001b[22m ──────────────────────── tidyverse 2.0.0 ──\n",
      "\u001b[32m✔\u001b[39m \u001b[34mdplyr    \u001b[39m 1.1.3     \u001b[32m✔\u001b[39m \u001b[34mreadr    \u001b[39m 2.1.4\n",
      "\u001b[32m✔\u001b[39m \u001b[34mforcats  \u001b[39m 1.0.0     \u001b[32m✔\u001b[39m \u001b[34mstringr  \u001b[39m 1.5.0\n",
      "\u001b[32m✔\u001b[39m \u001b[34mggplot2  \u001b[39m 3.4.4     \u001b[32m✔\u001b[39m \u001b[34mtibble   \u001b[39m 3.2.1\n",
      "\u001b[32m✔\u001b[39m \u001b[34mlubridate\u001b[39m 1.9.3     \u001b[32m✔\u001b[39m \u001b[34mtidyr    \u001b[39m 1.3.0\n",
      "\u001b[32m✔\u001b[39m \u001b[34mpurrr    \u001b[39m 1.0.2     \n",
      "── \u001b[1mConflicts\u001b[22m ────────────────────────────────────────── tidyverse_conflicts() ──\n",
      "\u001b[31m✖\u001b[39m \u001b[34mdplyr\u001b[39m::\u001b[32mfilter()\u001b[39m masks \u001b[34mstats\u001b[39m::filter()\n",
      "\u001b[31m✖\u001b[39m \u001b[34mdplyr\u001b[39m::\u001b[32mlag()\u001b[39m    masks \u001b[34mstats\u001b[39m::lag()\n",
      "\u001b[36mℹ\u001b[39m Use the conflicted package (\u001b[3m\u001b[34m<http://conflicted.r-lib.org/>\u001b[39m\u001b[23m) to force all conflicts to become errors\n"
     ]
    }
   ],
   "source": [
    "library(tidyverse)\n",
    "\n",
    "uci_data <- \"https://archive.ics.uci.edu/ml/machine-learning-databases/abalone/abalone.data\"\n",
    "\n",
    "df <- read.csv(uci_data, header = F)"
   ]
  },
  {
   "cell_type": "code",
   "execution_count": 21,
   "id": "670b3ecf-0921-4084-a359-27ffd205c676",
   "metadata": {
    "tags": []
   },
   "outputs": [
    {
     "data": {
      "text/html": [
       "<table class=\"dataframe\">\n",
       "<caption>A data.frame: 6 × 9</caption>\n",
       "<thead>\n",
       "\t<tr><th></th><th scope=col>V1</th><th scope=col>V2</th><th scope=col>V3</th><th scope=col>V4</th><th scope=col>V5</th><th scope=col>V6</th><th scope=col>V7</th><th scope=col>V8</th><th scope=col>V9</th></tr>\n",
       "\t<tr><th></th><th scope=col>&lt;chr&gt;</th><th scope=col>&lt;dbl&gt;</th><th scope=col>&lt;dbl&gt;</th><th scope=col>&lt;dbl&gt;</th><th scope=col>&lt;dbl&gt;</th><th scope=col>&lt;dbl&gt;</th><th scope=col>&lt;dbl&gt;</th><th scope=col>&lt;dbl&gt;</th><th scope=col>&lt;int&gt;</th></tr>\n",
       "</thead>\n",
       "<tbody>\n",
       "\t<tr><th scope=row>1</th><td>M</td><td>0.455</td><td>0.365</td><td>0.095</td><td>0.5140</td><td>0.2245</td><td>0.1010</td><td>0.150</td><td>15</td></tr>\n",
       "\t<tr><th scope=row>2</th><td>M</td><td>0.350</td><td>0.265</td><td>0.090</td><td>0.2255</td><td>0.0995</td><td>0.0485</td><td>0.070</td><td> 7</td></tr>\n",
       "\t<tr><th scope=row>3</th><td>F</td><td>0.530</td><td>0.420</td><td>0.135</td><td>0.6770</td><td>0.2565</td><td>0.1415</td><td>0.210</td><td> 9</td></tr>\n",
       "\t<tr><th scope=row>4</th><td>M</td><td>0.440</td><td>0.365</td><td>0.125</td><td>0.5160</td><td>0.2155</td><td>0.1140</td><td>0.155</td><td>10</td></tr>\n",
       "\t<tr><th scope=row>5</th><td>I</td><td>0.330</td><td>0.255</td><td>0.080</td><td>0.2050</td><td>0.0895</td><td>0.0395</td><td>0.055</td><td> 7</td></tr>\n",
       "\t<tr><th scope=row>6</th><td>I</td><td>0.425</td><td>0.300</td><td>0.095</td><td>0.3515</td><td>0.1410</td><td>0.0775</td><td>0.120</td><td> 8</td></tr>\n",
       "</tbody>\n",
       "</table>\n"
      ],
      "text/latex": [
       "A data.frame: 6 × 9\n",
       "\\begin{tabular}{r|lllllllll}\n",
       "  & V1 & V2 & V3 & V4 & V5 & V6 & V7 & V8 & V9\\\\\n",
       "  & <chr> & <dbl> & <dbl> & <dbl> & <dbl> & <dbl> & <dbl> & <dbl> & <int>\\\\\n",
       "\\hline\n",
       "\t1 & M & 0.455 & 0.365 & 0.095 & 0.5140 & 0.2245 & 0.1010 & 0.150 & 15\\\\\n",
       "\t2 & M & 0.350 & 0.265 & 0.090 & 0.2255 & 0.0995 & 0.0485 & 0.070 &  7\\\\\n",
       "\t3 & F & 0.530 & 0.420 & 0.135 & 0.6770 & 0.2565 & 0.1415 & 0.210 &  9\\\\\n",
       "\t4 & M & 0.440 & 0.365 & 0.125 & 0.5160 & 0.2155 & 0.1140 & 0.155 & 10\\\\\n",
       "\t5 & I & 0.330 & 0.255 & 0.080 & 0.2050 & 0.0895 & 0.0395 & 0.055 &  7\\\\\n",
       "\t6 & I & 0.425 & 0.300 & 0.095 & 0.3515 & 0.1410 & 0.0775 & 0.120 &  8\\\\\n",
       "\\end{tabular}\n"
      ],
      "text/markdown": [
       "\n",
       "A data.frame: 6 × 9\n",
       "\n",
       "| <!--/--> | V1 &lt;chr&gt; | V2 &lt;dbl&gt; | V3 &lt;dbl&gt; | V4 &lt;dbl&gt; | V5 &lt;dbl&gt; | V6 &lt;dbl&gt; | V7 &lt;dbl&gt; | V8 &lt;dbl&gt; | V9 &lt;int&gt; |\n",
       "|---|---|---|---|---|---|---|---|---|---|\n",
       "| 1 | M | 0.455 | 0.365 | 0.095 | 0.5140 | 0.2245 | 0.1010 | 0.150 | 15 |\n",
       "| 2 | M | 0.350 | 0.265 | 0.090 | 0.2255 | 0.0995 | 0.0485 | 0.070 |  7 |\n",
       "| 3 | F | 0.530 | 0.420 | 0.135 | 0.6770 | 0.2565 | 0.1415 | 0.210 |  9 |\n",
       "| 4 | M | 0.440 | 0.365 | 0.125 | 0.5160 | 0.2155 | 0.1140 | 0.155 | 10 |\n",
       "| 5 | I | 0.330 | 0.255 | 0.080 | 0.2050 | 0.0895 | 0.0395 | 0.055 |  7 |\n",
       "| 6 | I | 0.425 | 0.300 | 0.095 | 0.3515 | 0.1410 | 0.0775 | 0.120 |  8 |\n",
       "\n"
      ],
      "text/plain": [
       "  V1 V2    V3    V4    V5     V6     V7     V8    V9\n",
       "1 M  0.455 0.365 0.095 0.5140 0.2245 0.1010 0.150 15\n",
       "2 M  0.350 0.265 0.090 0.2255 0.0995 0.0485 0.070  7\n",
       "3 F  0.530 0.420 0.135 0.6770 0.2565 0.1415 0.210  9\n",
       "4 M  0.440 0.365 0.125 0.5160 0.2155 0.1140 0.155 10\n",
       "5 I  0.330 0.255 0.080 0.2050 0.0895 0.0395 0.055  7\n",
       "6 I  0.425 0.300 0.095 0.3515 0.1410 0.0775 0.120  8"
      ]
     },
     "metadata": {},
     "output_type": "display_data"
    }
   ],
   "source": [
    "head(df)"
   ]
  },
  {
   "cell_type": "markdown",
   "id": "725f2f5c-bf6f-461a-a3f3-7d7c30e454ef",
   "metadata": {
    "tags": []
   },
   "source": [
    "## Task 1\n",
    "\n",
    "(1 point)\n",
    "\n",
    "Print the number of rows in the dataset."
   ]
  },
  {
   "cell_type": "code",
   "execution_count": 4,
   "id": "46f77301-162f-4c1e-8c58-f525e1930b2d",
   "metadata": {
    "tags": []
   },
   "outputs": [
    {
     "data": {
      "text/html": [
       "4177"
      ],
      "text/latex": [
       "4177"
      ],
      "text/markdown": [
       "4177"
      ],
      "text/plain": [
       "[1] 4177"
      ]
     },
     "metadata": {},
     "output_type": "display_data"
    }
   ],
   "source": [
    "n_rows <- dim(df)[1]\n",
    "n_rows"
   ]
  },
  {
   "cell_type": "markdown",
   "id": "316d2aef-f519-4322-9845-7e7573250bdf",
   "metadata": {
    "tags": []
   },
   "source": [
    "## Task 2\n",
    "\n",
    "(1 point)\n",
    "\n",
    "The rightmost column is the number of rings. Print the maximum number of\n",
    "rings\n",
    "\n",
    "This assumes you don't know that name of the column:"
   ]
  },
  {
   "cell_type": "code",
   "execution_count": 5,
   "id": "d11138a5-0b2b-4f65-8cc3-4c08baac3acc",
   "metadata": {
    "tags": []
   },
   "outputs": [
    {
     "data": {
      "text/html": [
       "29"
      ],
      "text/latex": [
       "29"
      ],
      "text/markdown": [
       "29"
      ],
      "text/plain": [
       "[1] 29"
      ]
     },
     "metadata": {},
     "output_type": "display_data"
    }
   ],
   "source": [
    "max(df[length(df)])"
   ]
  },
  {
   "cell_type": "markdown",
   "id": "81d04dc4-8efa-44ec-976f-95fafc98f594",
   "metadata": {
    "tags": []
   },
   "source": [
    "This assumes you do know the name of the column:"
   ]
  },
  {
   "cell_type": "code",
   "execution_count": 7,
   "id": "d09f66b1-4b57-4199-b250-a8f3efe3f560",
   "metadata": {
    "tags": []
   },
   "outputs": [
    {
     "data": {
      "text/html": [
       "29"
      ],
      "text/latex": [
       "29"
      ],
      "text/markdown": [
       "29"
      ],
      "text/plain": [
       "[1] 29"
      ]
     },
     "metadata": {},
     "output_type": "display_data"
    }
   ],
   "source": [
    "max(df$V9)"
   ]
  },
  {
   "cell_type": "markdown",
   "id": "3f8cc3bd-b305-4466-bb23-ccb3f4aaed34",
   "metadata": {
    "tags": []
   },
   "source": [
    "## Task 3\n",
    "\n",
    "(1 point)\n",
    "\n",
    "The leftmost column is the gender with these values: `M`: male, `F`:\n",
    "female, `I`: infant.\n",
    "\n",
    "Apply the `filter()` function from dplyr to select only rows where\n",
    "gender is infant, and print the number of records.\n",
    "\n",
    "**Method 1**"
   ]
  },
  {
   "cell_type": "code",
   "execution_count": 27,
   "id": "7a60bfb6-575a-44dd-bf5e-fd872f98d5be",
   "metadata": {
    "tags": []
   },
   "outputs": [
    {
     "data": {
      "text/html": [
       "1342"
      ],
      "text/latex": [
       "1342"
      ],
      "text/markdown": [
       "1342"
      ],
      "text/plain": [
       "[1] 1342"
      ]
     },
     "metadata": {},
     "output_type": "display_data"
    }
   ],
   "source": [
    "infant_rows <- df %>% \n",
    "    filter(V1 == 'I') \n",
    "dim(infant_rows)[1]"
   ]
  },
  {
   "cell_type": "code",
   "execution_count": 28,
   "id": "73b29227-ea93-4b68-874f-4fc3ee7d8edc",
   "metadata": {
    "tags": []
   },
   "outputs": [
    {
     "data": {
      "text/html": [
       "1342"
      ],
      "text/latex": [
       "1342"
      ],
      "text/markdown": [
       "1342"
      ],
      "text/plain": [
       "[1] 1342"
      ]
     },
     "metadata": {},
     "output_type": "display_data"
    }
   ],
   "source": [
    "df %>%\n",
    "    filter(V1 == 'I') %>%\n",
    "    dim() %>%\n",
    "    .[1]"
   ]
  },
  {
   "cell_type": "markdown",
   "id": "ba5219da-69aa-4919-aac3-af98c3648c75",
   "metadata": {
    "tags": []
   },
   "source": [
    "**Method 2**"
   ]
  },
  {
   "cell_type": "code",
   "execution_count": 30,
   "id": "c59b7792-880b-4dab-9453-7082f8dbf3a4",
   "metadata": {
    "tags": []
   },
   "outputs": [
    {
     "data": {
      "text/html": [
       "<strong>n:</strong> 1342"
      ],
      "text/latex": [
       "\\textbf{n:} 1342"
      ],
      "text/markdown": [
       "**n:** 1342"
      ],
      "text/plain": [
       "   n \n",
       "1342 "
      ]
     },
     "metadata": {},
     "output_type": "display_data"
    }
   ],
   "source": [
    "df %>%\n",
    "    filter(V1 == 'I') %>%\n",
    "    count() %>%\n",
    "    unlist()"
   ]
  },
  {
   "cell_type": "code",
   "execution_count": 31,
   "id": "4f07b02c-73aa-4336-8a92-8f9510e8a8cb",
   "metadata": {
    "tags": []
   },
   "outputs": [
    {
     "data": {
      "text/html": [
       "<strong>n:</strong> 1342"
      ],
      "text/latex": [
       "\\textbf{n:} 1342"
      ],
      "text/markdown": [
       "**n:** 1342"
      ],
      "text/plain": [
       "   n \n",
       "1342 "
      ]
     },
     "metadata": {},
     "output_type": "display_data"
    }
   ],
   "source": [
    "df %>%\n",
    "  filter(V1 == 'I') %>%\n",
    "  summarise(count(.)) %>%\n",
    "  select(n) %>%\n",
    "  unlist()"
   ]
  },
  {
   "cell_type": "code",
   "execution_count": 32,
   "id": "8542dcd4-65db-468d-a2de-d52c7858572c",
   "metadata": {
    "tags": []
   },
   "outputs": [
    {
     "data": {
      "text/html": [
       "1342"
      ],
      "text/latex": [
       "1342"
      ],
      "text/markdown": [
       "1342"
      ],
      "text/plain": [
       "[1] 1342"
      ]
     },
     "metadata": {},
     "output_type": "display_data"
    }
   ],
   "source": [
    "# Without Dplyr\n",
    "count(df[df$V1 == 'I', ])$n"
   ]
  },
  {
   "cell_type": "code",
   "execution_count": 33,
   "id": "06db97e9-a3d7-4c8f-b943-39d50b454ce9",
   "metadata": {
    "tags": []
   },
   "outputs": [
    {
     "data": {
      "text/html": [
       "<table class=\"dataframe\">\n",
       "<caption>A data.frame: 1 × 1</caption>\n",
       "<thead>\n",
       "\t<tr><th></th><th scope=col>n</th></tr>\n",
       "\t<tr><th></th><th scope=col>&lt;int&gt;</th></tr>\n",
       "</thead>\n",
       "<tbody>\n",
       "\t<tr><th scope=row>1</th><td>1342</td></tr>\n",
       "</tbody>\n",
       "</table>\n"
      ],
      "text/latex": [
       "A data.frame: 1 × 1\n",
       "\\begin{tabular}{r|l}\n",
       "  & n\\\\\n",
       "  & <int>\\\\\n",
       "\\hline\n",
       "\t1 & 1342\\\\\n",
       "\\end{tabular}\n"
      ],
      "text/markdown": [
       "\n",
       "A data.frame: 1 × 1\n",
       "\n",
       "| <!--/--> | n &lt;int&gt; |\n",
       "|---|---|\n",
       "| 1 | 1342 |\n",
       "\n"
      ],
      "text/plain": [
       "  n   \n",
       "1 1342"
      ]
     },
     "metadata": {},
     "output_type": "display_data"
    }
   ],
   "source": [
    "df %>%\n",
    "    filter(V1 == 'I') %>%\n",
    "    mutate(n = n()) %>%\n",
    "    select(n) %>%\n",
    "    unique()"
   ]
  },
  {
   "cell_type": "markdown",
   "id": "c86db3d9-1faf-4fac-911b-f6cd0c905b7f",
   "metadata": {
    "tags": []
   },
   "source": [
    "## Task 4\n",
    "\n",
    "(1 point)\n",
    "\n",
    "Apply the `filter()` function from `tidyverse` to select only rows where\n",
    "gender is infant or male, and print the number of records."
   ]
  },
  {
   "cell_type": "code",
   "execution_count": 14,
   "id": "4e114a60-19f1-442a-9474-c584fa1a5ba8",
   "metadata": {
    "tags": []
   },
   "outputs": [
    {
     "data": {
      "text/html": [
       "<strong>n:</strong> 2870"
      ],
      "text/latex": [
       "\\textbf{n:} 2870"
      ],
      "text/markdown": [
       "**n:** 2870"
      ],
      "text/plain": [
       "   n \n",
       "2870 "
      ]
     },
     "metadata": {},
     "output_type": "display_data"
    }
   ],
   "source": [
    "df %>%\n",
    "    filter(V1 == 'M' | V1 == 'I') %>%\n",
    "    count() %>%\n",
    "    unlist()"
   ]
  },
  {
   "cell_type": "markdown",
   "id": "d9d7de3a-fcb5-47a8-944b-4a057c26e077",
   "metadata": {
    "tags": []
   },
   "source": [
    "## Task 5\n",
    "\n",
    "(1 point)\n",
    "\n",
    "Call the `table()` function on the abalone genders to find out how many\n",
    "of each gender are present.\n",
    "\n",
    "Print the result."
   ]
  },
  {
   "cell_type": "code",
   "execution_count": 15,
   "id": "810504b2-3106-44e7-ba1e-6f7847617a57",
   "metadata": {
    "tags": []
   },
   "outputs": [
    {
     "data": {
      "text/plain": [
       "\n",
       "   F    I    M \n",
       "1307 1342 1528 "
      ]
     },
     "metadata": {},
     "output_type": "display_data"
    }
   ],
   "source": [
    "table(df$V1)"
   ]
  },
  {
   "cell_type": "markdown",
   "id": "6af6709e-f4f7-43aa-9d95-07004b79595a",
   "metadata": {
    "tags": []
   },
   "source": [
    "## Task 6\n",
    "\n",
    "(1 point)\n",
    "\n",
    "Compute the mean value of column 2 (V2) grouped by gender.\n",
    "\n",
    "V2 is the longest shell measurement.\n",
    "\n",
    "Requirements: use the `%>%` operator to chain commands, and the\n",
    "`group_by()` and `summarize()` functions."
   ]
  },
  {
   "cell_type": "code",
   "execution_count": 16,
   "id": "c78451d5-9dba-4541-ab8f-4ef34bf33689",
   "metadata": {
    "tags": []
   },
   "outputs": [
    {
     "data": {
      "text/html": [
       "<table class=\"dataframe\">\n",
       "<caption>A tibble: 3 × 2</caption>\n",
       "<thead>\n",
       "\t<tr><th scope=col>V1</th><th scope=col>V2_mean</th></tr>\n",
       "\t<tr><th scope=col>&lt;chr&gt;</th><th scope=col>&lt;dbl&gt;</th></tr>\n",
       "</thead>\n",
       "<tbody>\n",
       "\t<tr><td>F</td><td>0.5790933</td></tr>\n",
       "\t<tr><td>I</td><td>0.4277459</td></tr>\n",
       "\t<tr><td>M</td><td>0.5613907</td></tr>\n",
       "</tbody>\n",
       "</table>\n"
      ],
      "text/latex": [
       "A tibble: 3 × 2\n",
       "\\begin{tabular}{ll}\n",
       " V1 & V2\\_mean\\\\\n",
       " <chr> & <dbl>\\\\\n",
       "\\hline\n",
       "\t F & 0.5790933\\\\\n",
       "\t I & 0.4277459\\\\\n",
       "\t M & 0.5613907\\\\\n",
       "\\end{tabular}\n"
      ],
      "text/markdown": [
       "\n",
       "A tibble: 3 × 2\n",
       "\n",
       "| V1 &lt;chr&gt; | V2_mean &lt;dbl&gt; |\n",
       "|---|---|\n",
       "| F | 0.5790933 |\n",
       "| I | 0.4277459 |\n",
       "| M | 0.5613907 |\n",
       "\n"
      ],
      "text/plain": [
       "  V1 V2_mean  \n",
       "1 F  0.5790933\n",
       "2 I  0.4277459\n",
       "3 M  0.5613907"
      ]
     },
     "metadata": {},
     "output_type": "display_data"
    }
   ],
   "source": [
    "df %>% \n",
    "    group_by(V1) %>%\n",
    "    summarize(V2_mean = mean(V2, na.rm = TRUE), .groups = \"drop\")"
   ]
  },
  {
   "cell_type": "markdown",
   "id": "a441190e-d026-41b8-bdee-e2b9d09086aa",
   "metadata": {
    "tags": []
   },
   "source": [
    "# Task 7\n",
    "\n",
    "(1 point)\n",
    "\n",
    "Compute the MEDIAN value of longest shell measurement for only the\n",
    "males.\n",
    "\n",
    "Requirements: use the `%>%` operator to chain commands."
   ]
  },
  {
   "cell_type": "code",
   "execution_count": 17,
   "id": "d72b992d-60f9-4e23-806b-be05c6fa073c",
   "metadata": {
    "tags": []
   },
   "outputs": [
    {
     "data": {
      "text/html": [
       "<table class=\"dataframe\">\n",
       "<caption>A data.frame: 6 × 9</caption>\n",
       "<thead>\n",
       "\t<tr><th></th><th scope=col>V1</th><th scope=col>V2</th><th scope=col>V3</th><th scope=col>V4</th><th scope=col>V5</th><th scope=col>V6</th><th scope=col>V7</th><th scope=col>V8</th><th scope=col>V9</th></tr>\n",
       "\t<tr><th></th><th scope=col>&lt;chr&gt;</th><th scope=col>&lt;dbl&gt;</th><th scope=col>&lt;dbl&gt;</th><th scope=col>&lt;dbl&gt;</th><th scope=col>&lt;dbl&gt;</th><th scope=col>&lt;dbl&gt;</th><th scope=col>&lt;dbl&gt;</th><th scope=col>&lt;dbl&gt;</th><th scope=col>&lt;int&gt;</th></tr>\n",
       "</thead>\n",
       "<tbody>\n",
       "\t<tr><th scope=row>1</th><td>M</td><td>0.455</td><td>0.365</td><td>0.095</td><td>0.5140</td><td>0.2245</td><td>0.1010</td><td>0.150</td><td>15</td></tr>\n",
       "\t<tr><th scope=row>2</th><td>M</td><td>0.350</td><td>0.265</td><td>0.090</td><td>0.2255</td><td>0.0995</td><td>0.0485</td><td>0.070</td><td> 7</td></tr>\n",
       "\t<tr><th scope=row>3</th><td>F</td><td>0.530</td><td>0.420</td><td>0.135</td><td>0.6770</td><td>0.2565</td><td>0.1415</td><td>0.210</td><td> 9</td></tr>\n",
       "\t<tr><th scope=row>4</th><td>M</td><td>0.440</td><td>0.365</td><td>0.125</td><td>0.5160</td><td>0.2155</td><td>0.1140</td><td>0.155</td><td>10</td></tr>\n",
       "\t<tr><th scope=row>5</th><td>I</td><td>0.330</td><td>0.255</td><td>0.080</td><td>0.2050</td><td>0.0895</td><td>0.0395</td><td>0.055</td><td> 7</td></tr>\n",
       "\t<tr><th scope=row>6</th><td>I</td><td>0.425</td><td>0.300</td><td>0.095</td><td>0.3515</td><td>0.1410</td><td>0.0775</td><td>0.120</td><td> 8</td></tr>\n",
       "</tbody>\n",
       "</table>\n"
      ],
      "text/latex": [
       "A data.frame: 6 × 9\n",
       "\\begin{tabular}{r|lllllllll}\n",
       "  & V1 & V2 & V3 & V4 & V5 & V6 & V7 & V8 & V9\\\\\n",
       "  & <chr> & <dbl> & <dbl> & <dbl> & <dbl> & <dbl> & <dbl> & <dbl> & <int>\\\\\n",
       "\\hline\n",
       "\t1 & M & 0.455 & 0.365 & 0.095 & 0.5140 & 0.2245 & 0.1010 & 0.150 & 15\\\\\n",
       "\t2 & M & 0.350 & 0.265 & 0.090 & 0.2255 & 0.0995 & 0.0485 & 0.070 &  7\\\\\n",
       "\t3 & F & 0.530 & 0.420 & 0.135 & 0.6770 & 0.2565 & 0.1415 & 0.210 &  9\\\\\n",
       "\t4 & M & 0.440 & 0.365 & 0.125 & 0.5160 & 0.2155 & 0.1140 & 0.155 & 10\\\\\n",
       "\t5 & I & 0.330 & 0.255 & 0.080 & 0.2050 & 0.0895 & 0.0395 & 0.055 &  7\\\\\n",
       "\t6 & I & 0.425 & 0.300 & 0.095 & 0.3515 & 0.1410 & 0.0775 & 0.120 &  8\\\\\n",
       "\\end{tabular}\n"
      ],
      "text/markdown": [
       "\n",
       "A data.frame: 6 × 9\n",
       "\n",
       "| <!--/--> | V1 &lt;chr&gt; | V2 &lt;dbl&gt; | V3 &lt;dbl&gt; | V4 &lt;dbl&gt; | V5 &lt;dbl&gt; | V6 &lt;dbl&gt; | V7 &lt;dbl&gt; | V8 &lt;dbl&gt; | V9 &lt;int&gt; |\n",
       "|---|---|---|---|---|---|---|---|---|---|\n",
       "| 1 | M | 0.455 | 0.365 | 0.095 | 0.5140 | 0.2245 | 0.1010 | 0.150 | 15 |\n",
       "| 2 | M | 0.350 | 0.265 | 0.090 | 0.2255 | 0.0995 | 0.0485 | 0.070 |  7 |\n",
       "| 3 | F | 0.530 | 0.420 | 0.135 | 0.6770 | 0.2565 | 0.1415 | 0.210 |  9 |\n",
       "| 4 | M | 0.440 | 0.365 | 0.125 | 0.5160 | 0.2155 | 0.1140 | 0.155 | 10 |\n",
       "| 5 | I | 0.330 | 0.255 | 0.080 | 0.2050 | 0.0895 | 0.0395 | 0.055 |  7 |\n",
       "| 6 | I | 0.425 | 0.300 | 0.095 | 0.3515 | 0.1410 | 0.0775 | 0.120 |  8 |\n",
       "\n"
      ],
      "text/plain": [
       "  V1 V2    V3    V4    V5     V6     V7     V8    V9\n",
       "1 M  0.455 0.365 0.095 0.5140 0.2245 0.1010 0.150 15\n",
       "2 M  0.350 0.265 0.090 0.2255 0.0995 0.0485 0.070  7\n",
       "3 F  0.530 0.420 0.135 0.6770 0.2565 0.1415 0.210  9\n",
       "4 M  0.440 0.365 0.125 0.5160 0.2155 0.1140 0.155 10\n",
       "5 I  0.330 0.255 0.080 0.2050 0.0895 0.0395 0.055  7\n",
       "6 I  0.425 0.300 0.095 0.3515 0.1410 0.0775 0.120  8"
      ]
     },
     "metadata": {},
     "output_type": "display_data"
    }
   ],
   "source": [
    "head(df)"
   ]
  },
  {
   "cell_type": "code",
   "execution_count": 18,
   "id": "00f0660b-0ab3-4a36-bf01-d2262d9e4f10",
   "metadata": {
    "tags": []
   },
   "outputs": [],
   "source": [
    "shell_col <- 'V2'"
   ]
  },
  {
   "cell_type": "code",
   "execution_count": 19,
   "id": "31e396ea-d10c-4d43-8b50-e0b1cf010eb0",
   "metadata": {
    "tags": []
   },
   "outputs": [
    {
     "data": {
      "text/html": [
       "<table class=\"dataframe\">\n",
       "<caption>A tibble: 1 × 1</caption>\n",
       "<thead>\n",
       "\t<tr><th scope=col>V2_median</th></tr>\n",
       "\t<tr><th scope=col>&lt;dbl&gt;</th></tr>\n",
       "</thead>\n",
       "<tbody>\n",
       "\t<tr><td>0.58</td></tr>\n",
       "</tbody>\n",
       "</table>\n"
      ],
      "text/latex": [
       "A tibble: 1 × 1\n",
       "\\begin{tabular}{l}\n",
       " V2\\_median\\\\\n",
       " <dbl>\\\\\n",
       "\\hline\n",
       "\t 0.58\\\\\n",
       "\\end{tabular}\n"
      ],
      "text/markdown": [
       "\n",
       "A tibble: 1 × 1\n",
       "\n",
       "| V2_median &lt;dbl&gt; |\n",
       "|---|\n",
       "| 0.58 |\n",
       "\n"
      ],
      "text/plain": [
       "  V2_median\n",
       "1 0.58     "
      ]
     },
     "metadata": {},
     "output_type": "display_data"
    }
   ],
   "source": [
    "df %>%\n",
    "    filter(V1 == 'M') %>%    \n",
    "    group_by(V1) %>%\n",
    "    summarize(V2_median = median(V2, na.rm = TRUE), .groups = \"drop\") %>%\n",
    "    select(V2_median)"
   ]
  },
  {
   "cell_type": "code",
   "execution_count": 19,
   "id": "1e6a8039-936c-4e72-b433-db0072c15424",
   "metadata": {
    "tags": []
   },
   "outputs": [
    {
     "data": {
      "text/html": [
       "<table class=\"dataframe\">\n",
       "<caption>A tibble: 1 × 1</caption>\n",
       "<thead>\n",
       "\t<tr><th scope=col>V2_median</th></tr>\n",
       "\t<tr><th scope=col>&lt;dbl&gt;</th></tr>\n",
       "</thead>\n",
       "<tbody>\n",
       "\t<tr><td>0.58</td></tr>\n",
       "</tbody>\n",
       "</table>\n"
      ],
      "text/latex": [
       "A tibble: 1 × 1\n",
       "\\begin{tabular}{l}\n",
       " V2\\_median\\\\\n",
       " <dbl>\\\\\n",
       "\\hline\n",
       "\t 0.58\\\\\n",
       "\\end{tabular}\n"
      ],
      "text/markdown": [
       "\n",
       "A tibble: 1 × 1\n",
       "\n",
       "| V2_median &lt;dbl&gt; |\n",
       "|---|\n",
       "| 0.58 |\n",
       "\n"
      ],
      "text/plain": [
       "  V2_median\n",
       "1 0.58     "
      ]
     },
     "metadata": {},
     "output_type": "display_data"
    }
   ],
   "source": [
    "df %>%\n",
    "    filter(V1 == 'M') %>%    \n",
    "    group_by(V1) %>%\n",
    "    summarize(V2_median = median(V2, na.rm = TRUE), .groups = \"drop\") %>%\n",
    "    select(V2_median)"
   ]
  },
  {
   "cell_type": "code",
   "execution_count": null,
   "id": "ac92516f-4924-4dc7-b627-bd8c5b52c2dc",
   "metadata": {},
   "outputs": [],
   "source": []
  }
 ],
 "metadata": {
  "kernelspec": {
   "display_name": "R Environment",
   "language": "R",
   "name": "r_env"
  },
  "language_info": {
   "codemirror_mode": "r",
   "file_extension": ".r",
   "mimetype": "text/x-r-source",
   "name": "R",
   "pygments_lexer": "r",
   "version": "4.3.1"
  }
 },
 "nbformat": 4,
 "nbformat_minor": 5
}
