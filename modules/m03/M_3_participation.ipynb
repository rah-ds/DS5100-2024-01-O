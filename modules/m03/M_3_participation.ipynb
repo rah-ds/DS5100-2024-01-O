{
 "cells": [
  {
   "cell_type": "markdown",
   "id": "1719ea08-6f35-4e19-910f-903dce15e698",
   "metadata": {},
   "source": [
    "#### Class Participation\n",
    "\n",
    "```yaml\n",
    "name: Ryan Healy\n",
    "id: rah5ff\n",
    "date: 2/6/24\n",
    "```"
   ]
  },
  {
   "cell_type": "markdown",
   "id": "25493d28-9844-4035-b8f7-6eca02cadf6d",
   "metadata": {},
   "source": [
    "#### Ex 3.1\n",
    "\n",
    "No condition were statisfied\n",
    "will print\n",
    "```python\n",
    "None"
   ]
  },
  {
   "cell_type": "markdown",
   "id": "44612efe-3cbb-4e09-ac6d-11524b319122",
   "metadata": {},
   "source": [
    "#### 3.2\n"
   ]
  },
  {
   "cell_type": "code",
   "execution_count": 1,
   "id": "1ae2f319-062a-459f-a678-a540f5c39215",
   "metadata": {},
   "outputs": [
    {
     "name": "stdout",
     "output_type": "stream",
     "text": [
      "-2\n",
      "max_val\n",
      "0\n",
      "5\n",
      "6\n"
     ]
    }
   ],
   "source": [
    "xx = [-2,8,0,5,6]\n",
    "\n",
    "## get the max val\n",
    "max_val = max(xx)\n",
    "\n",
    "test = 0\n",
    "for val in xx:\n",
    "    if val < max_val:\n",
    "        print(val)\n",
    "\n",
    "    else:\n",
    "        print(\"max_val\")"
   ]
  },
  {
   "cell_type": "markdown",
   "id": "60be114d-541e-46d7-8239-06b91be0ce3a",
   "metadata": {},
   "source": [
    "Look for book Python one-liners"
   ]
  },
  {
   "cell_type": "code",
   "execution_count": 2,
   "id": "b6d662ea-d466-4c92-9e32-4d69b25e633d",
   "metadata": {},
   "outputs": [
    {
     "name": "stdout",
     "output_type": "stream",
     "text": [
      "-2\n",
      "max_val\n",
      "0\n",
      "5\n",
      "6\n"
     ]
    }
   ],
   "source": [
    "## one liner ex\n",
    "for x in xx:\n",
    "    print(x) if x < max_val else print(\"max_val\")"
   ]
  },
  {
   "cell_type": "markdown",
   "id": "ecf620c5-2f57-4f1e-aaea-0487e97e5ef2",
   "metadata": {},
   "source": [
    "#### Ex 3.3"
   ]
  },
  {
   "cell_type": "code",
   "execution_count": 7,
   "id": "56fe4d1b-e697-42fa-82c6-c6794e27741e",
   "metadata": {},
   "outputs": [
    {
     "name": "stdout",
     "output_type": "stream",
     "text": [
      "0\n",
      "10\n",
      "20\n",
      "30\n",
      "40\n",
      "50\n",
      "60\n",
      "70\n",
      "80\n",
      "90\n"
     ]
    }
   ],
   "source": [
    "it       = 0\n",
    "max_iter = 100\n",
    "\n",
    "while it < max_iter:\n",
    "    if (it == 0) or (it % 10 == 0):\n",
    "        print(it)\n",
    "    it += 1\n",
    "        "
   ]
  },
  {
   "cell_type": "markdown",
   "id": "6119cf6b-3cbd-4280-bdf6-39812ea5b6a5",
   "metadata": {},
   "source": [
    "#### 3.4"
   ]
  },
  {
   "cell_type": "code",
   "execution_count": 11,
   "id": "9de3bef5-a2fe-442f-88c1-fe670ff82d84",
   "metadata": {},
   "outputs": [
    {
     "name": "stdout",
     "output_type": "stream",
     "text": [
      "ryan\n",
      "brandon\n",
      "donny\n",
      "joey\n"
     ]
    }
   ],
   "source": [
    "proper_nouns = [\"Ryan\", \"Brandon\", \"Donny\", \"Joey\"]\n",
    "\n",
    "for name in proper_nouns:\n",
    "    print(name.lower())"
   ]
  },
  {
   "cell_type": "markdown",
   "id": "2558ed9c-3cf0-488f-898f-52a6d76f6665",
   "metadata": {},
   "source": [
    "``` python\n",
    "_ \n",
    "```\n",
    "is a dummy variable\n",
    "print returns None"
   ]
  },
  {
   "cell_type": "markdown",
   "id": "2b57d6ae-12fb-4934-ba88-cb754c81e19f",
   "metadata": {},
   "source": [
    "#### Ex 3.5"
   ]
  },
  {
   "cell_type": "code",
   "execution_count": 15,
   "id": "f89ef16a-d51e-434f-9d99-9f8157938c8c",
   "metadata": {},
   "outputs": [
    {
     "name": "stdout",
     "output_type": "stream",
     "text": [
      "Ryan\n",
      "Brandon\n",
      "Donny\n",
      "Joey\n"
     ]
    }
   ],
   "source": [
    "iterator = iter(proper_nouns)\n",
    "print(next(iterator))\n",
    "print(next(iterator))\n",
    "print(next(iterator))\n",
    "print(next(iterator))"
   ]
  },
  {
   "cell_type": "markdown",
   "id": "6caf45c7-761b-4810-9957-daa7818db4ed",
   "metadata": {},
   "source": [
    "#### Ex 3.6"
   ]
  },
  {
   "cell_type": "code",
   "execution_count": 20,
   "id": "23baa50f-a411-44e6-8616-e0f47c831564",
   "metadata": {},
   "outputs": [
    {
     "name": "stdout",
     "output_type": "stream",
     "text": [
      "Herndon 99999\n",
      "Boston 99999\n"
     ]
    }
   ],
   "source": [
    "d = {\"Herndon\": 99999,\n",
    "     \"Boston\": 99999}\n",
    "\n",
    "for k,v in d.items():\n",
    "    print(k,v)"
   ]
  }
 ],
 "metadata": {
  "kernelspec": {
   "display_name": "Python 3 (ipykernel)",
   "language": "python",
   "name": "python3"
  },
  "language_info": {
   "codemirror_mode": {
    "name": "ipython",
    "version": 3
   },
   "file_extension": ".py",
   "mimetype": "text/x-python",
   "name": "python",
   "nbconvert_exporter": "python",
   "pygments_lexer": "ipython3",
   "version": "3.12.1"
  }
 },
 "nbformat": 4,
 "nbformat_minor": 5
}
