{
 "cells": [
  {
   "cell_type": "markdown",
   "id": "b38ffdec-2eb8-4ce4-80ee-1101c5fa11d9",
   "metadata": {},
   "source": [
    "# Various Topics"
   ]
  },
  {
   "cell_type": "markdown",
   "id": "8f8bf762-e3c7-41a9-9ba2-2b67f36868ab",
   "metadata": {
    "tags": []
   },
   "source": [
    "# Virtual Environments"
   ]
  },
  {
   "cell_type": "markdown",
   "id": "e46ff589-43e3-4150-99ee-4e10704d2922",
   "metadata": {},
   "source": [
    "## Plain Old Python\n",
    "\n",
    "Virtual environments (VEs) allow you to create functionally distinct installations of Python.\n",
    "\n",
    "This allows you to run code that has specific dependencies.\n",
    "\n",
    "It also allows you to share code environmens for various purposes.\n",
    "\n",
    "There are at least two ways to create VEs &mdash; with Python and with Conda."
   ]
  },
  {
   "cell_type": "markdown",
   "id": "b2161f3f-6d46-41db-9be4-c13fc2198085",
   "metadata": {},
   "source": [
    "## With Python\n",
    "\n",
    "```bash\n",
    "# Create by calling the `venv` module\n",
    "python -m venv my_env\n",
    "\n",
    "# Use the shell command `source` to run the `activate` script\n",
    "source my_env/bin/activate\n",
    "\n",
    "# Install packages to the environment by calling the argument\n",
    "python -m pip install my_env\n",
    "\n",
    "# Get out of the environment\n",
    "deactivate\n",
    "```\n",
    "\n",
    "When an enviroment is activated, you will see the environment name in parentheses prefixed to your command line prompt:\n",
    "\n",
    "```bash\n",
    "# The default environment\n",
    "(base) rca2t:\n",
    "\n",
    "# Inside my_env\n",
    "(my_env) rca2t:\n",
    "```"
   ]
  },
  {
   "cell_type": "markdown",
   "id": "7eae8416-f894-46fb-9822-a6c6deca11f9",
   "metadata": {},
   "source": [
    "## With Conda\n",
    "\n",
    "Conda provides a less complicated way to create and manage environments.\n",
    "\n",
    "To create a new enviroment:\n",
    "\n",
    "```bash\n",
    "# Create an environment with defaults\n",
    "conda create -n my_env \n",
    "\n",
    "# Create an environment with a specific version of Python\n",
    "conda create -n my_env python=3.8\n",
    "\n",
    "# Create an environment with a specific package\n",
    "conda create -n my_env scipy\n",
    "\n",
    "# Create an environment with a specific package and version\n",
    "conda create -n my_env scipy=0.17.3\n",
    "\n",
    "# Create an environment with a multiple parameters\n",
    "conda create -n myenv python=3.9 scipy=0.17.3 astroid babel\n",
    "\n",
    "# Activate the environment\n",
    "conda activate env_name\n",
    "\n",
    "# Deactivate the environment\n",
    "conda deactivate\n",
    "```\n",
    "\n",
    "Conda offers several commands to manage environments:\n",
    "\n",
    "```bash\n",
    "usage: conda-env [-h] command ...\n",
    "\n",
    "positional arguments:\n",
    "  command\n",
    "    create    Create an environment based on an environment definition file. If using an environment.yml file (the\n",
    "              default), you can name the environment in the first line of the file with 'name: envname' or you can\n",
    "              specify the environment name in the CLI command using the -n/--name argument. The name specified in the\n",
    "              CLI will override the name specified in the environment.yml file. Unless you are in the directory\n",
    "              containing the environment definition file, use -f to specify the file path of the environment\n",
    "              definition file you want to use.\n",
    "    export    Export a given environment\n",
    "    list      List the Conda environments\n",
    "    remove    Remove an environment\n",
    "    update    Update the current environment based on environment file\n",
    "    config    Configure a conda environment\n",
    "```\n",
    "\n",
    "To see what environments you have installed, do this:\n",
    "\n",
    "```bash\n",
    "rca2t@rivanna$ conda env list\n",
    "# conda environments:\n",
    "#\n",
    "base                  *  /apps/software/standard/core/anaconda/2020.11-py3.8\n",
    "eta                      /home/rca2t/.conda/envs/eta\n",
    "```"
   ]
  },
  {
   "cell_type": "markdown",
   "id": "3dc07f08-7d8d-4491-a73c-c1d2b76a738c",
   "metadata": {},
   "source": [
    "# Create from a YAML file\n",
    "\n",
    "```bash\n",
    "conda env create -f environment.yml\n",
    "```\n",
    "\n",
    "A simple YAML file:\n",
    "\n",
    "```yaml\n",
    "name: stats\n",
    "dependencies:\n",
    "  - numpy\n",
    "  - pandas\n",
    "```\n",
    "\n",
    "The first line of the yml file sets the new environment's name.\n",
    "\n",
    "A more complex version:\n",
    "\n",
    "```yaml\n",
    "name: stats2\n",
    "channels:\n",
    "  - javascript\n",
    "dependencies:\n",
    "  - python=3.9\n",
    "  - bokeh=2.4.2\n",
    "  - conda-forge::numpy=1.21.*\n",
    "  - nodejs=16.13.*\n",
    "  - flask\n",
    "  - pip\n",
    "  - pip:\n",
    "    - Flask-Testing\n",
    "```\n",
    "\n",
    "\n",
    "See the Conda docs on [Managing Environments](https://docs.conda.io/projects/conda/en/latest/user-guide/tasks/manage-environments.html)."
   ]
  },
  {
   "cell_type": "markdown",
   "id": "e89f4d6a-b0ef-45a4-97d8-61ee58a8eb65",
   "metadata": {},
   "source": [
    "# Dunder Methods\n",
    "\n",
    "Python classes have a number of implicit so-called dunder methods.\n",
    "\n",
    "For example, `__init__()` is a dunder method.\n",
    "\n",
    "So is `__eq__()` ... which means you can define how the `+` operator works with the objects of your class!\n",
    "\n",
    "Here some others:\n",
    "\n",
    "- `__new__()`: Creates a new instance of a class.\n",
    "\n",
    "- `__repr__()`: Returns the string representation of the class.\n",
    "\n",
    "- `__str__()`: Returns a reader-friendly string representation of a class object.\n",
    "\n",
    "- `__del__()`: Destroy object.\n",
    "\n",
    "- `__lt__()`, `__le__()`, `__eq__()`, `__ne__()`, `__gt__()`, `__ge__()`\n",
    "\n",
    "\n",
    "For more info, see [the Python docs](https://docs.python.org/3/reference/datamodel.html) and this [nice intro](https://mathspp.com/blog/pydonts/dunder-methods).\n"
   ]
  },
  {
   "cell_type": "markdown",
   "id": "b045b38e-9f3a-42fc-b352-400d22efe7d6",
   "metadata": {
    "tags": []
   },
   "source": [
    "# Decorators\n",
    "\n",
    "Decorators are constructs that do things with functions.\n",
    "\n",
    "Essentially, they are functions of functions (or classes).\n",
    "\n",
    "Syntactically, they appear lines prefixed with `@` right above a function definition.\n",
    "\n",
    "For example, the web application development tool Flask uses decorators to map functions to URLs.\n",
    "\n",
    "```python\n",
    "@app.route('/test')\n",
    "def test():\n",
    "    return render_template('test.html')\n",
    "```\n",
    "\n",
    "Another example is the data class (`dataclasses`) module, introduced in Python 3.7.\n",
    "\n",
    "A data class is a class typically containing mainly data, although it does not have to be. \n",
    "\n",
    "It is created using the new `@dataclass` decorator, as follows:\n",
    "\n",
    "```python\n",
    "from dataclasses import dataclass\n",
    "\n",
    "@dataclass\n",
    "class DataClassCard:\n",
    "    rank: str\n",
    "    suit: str\n",
    "```\n",
    "\n",
    "Doing this will automatically create a class basic functionality already implemented. \n",
    "\n",
    "You can instantiate, print, and compare data class instances straight out of the box:\n",
    "\n",
    "```python\n",
    "queen_of_hearts = DataClassCard('Q', 'Hearts')\n",
    "queen_of_hearts.rank\n",
    "```\n",
    "\n",
    "Compare that to a regular class:\n",
    "\n",
    "```python\n",
    "class RegularCard:\n",
    "    def __init__(self, rank, suit):\n",
    "        self.rank = rank\n",
    "        self.suit = suit\n",
    "```"
   ]
  },
  {
   "cell_type": "markdown",
   "id": "e17ff962-faa2-488a-802f-d655730f3f1f",
   "metadata": {
    "tags": []
   },
   "source": [
    "## Another Example\n",
    "\n",
    "[Source](https://www.infoworld.com/article/3563878/how-to-use-python-dataclasses.html)\n",
    "\n",
    "```python\n",
    "class Book:\n",
    "    '''Object for tracking physical books in a collection.'''\n",
    "    def __init__(self, name: str, weight: float, shelf_id:int = 0):\n",
    "        self.name = name\n",
    "        self.weight = weight # in grams, for calculating shipping\n",
    "        self.shelf_id = shelf_id\n",
    "    def __repr__(self):\n",
    "        return(f\"Book(name={self.name!r},\n",
    "            weight={self.weight!r}, shelf_id={self.shelf_id!r})\")\n",
    "```\n",
    "\n",
    "Notice the way each of the arguments passed to `__init__` has to be copied to the object’s properties. \n",
    "\n",
    "Here is the same class implemented as a dataclass:\n",
    "\n",
    "```python\n",
    "from dataclasses import dataclass\n",
    "\n",
    "@dataclass\n",
    "class Book:\n",
    "    '''Object for tracking physical books in a collection.'''\n",
    "    name: str\n",
    "    weight: float \n",
    "    shelf_id: int = 0\n",
    "```\n",
    "\n",
    "Note the typing and initialization.\n",
    "\n",
    "`@dataclass` automatically creates code for a number of common dunder methods in the class. \n",
    "\n",
    "For example, in the conventional class above, we had to create our own `__repr__`. \n",
    "\n",
    "The `@dataclass` decorator generates the `__repr__` for you.\n",
    "\n",
    "For info in `__repr__`, see [this helpful tutorial](https://www.pythontutorial.net/python-oop/python-__repr__/)\n",
    "\n",
    "\n",
    "**Advanced Python dataclass initialization**\n",
    "\n",
    "The dataclass decorator can take initialization options of its own. \n",
    "\n",
    "Most of the time you won't need to supply them, but they can come in handy for certain edge cases. \n",
    "\n",
    "Here are some of the most useful ones (they're all True/False):\n",
    "\n",
    "\n",
    "- `frozen`: Generates class instances that are read-only. Once data has been assigned, it can't be modified.\n",
    "- `slots`: Allows instances of dataclasses to use less memory by only allowing fields explicitly defined in the class.\n",
    "- `kw_only`: When set, all fields for the class are keyword-only.\n",
    "\n",
    "```python\n",
    "@dataclass(init=True, repr=True, eq=True, order=False, unsafe_hash=False, frozen=False,\n",
    "           match_args=True, kw_only=False, slots=False, weakref_slot=False)\n",
    "```\n",
    "\n",
    "**Customize Python dataclass fields with the field function**\n",
    "\n",
    "Use the `field()` function for fine-tuning:\n",
    "\n",
    "```python\n",
    "from dataclasses import dataclass, field\n",
    "from typing import List\n",
    "\n",
    "@dataclass\n",
    "class Book:\n",
    "    '''Object for tracking physical books in a collection.'''\n",
    "    name: str     \n",
    "    condition: str = field(compare=False)    \n",
    "    weight: float = field(default=0.0, repr=False)\n",
    "    shelf_id: int = 0\n",
    "    chapters: List[str] = field(default_factory=list)\n",
    "```\n",
    "\n",
    "When you set a default value to an instance of field, it changes how the field is set up depending on what parameters you give field. \n",
    "\n",
    "These are the most commonly used options for field (there are others):\n",
    "\n",
    "- `default`: Sets the default value for the field. \n",
    "- `default_factory`: Provides the name of a function, which takes no parameters, that returns some object to serve as the default value for the field. \n",
    "- `repr`: By default (`True`), controls if the field shows up in the automatically generated `__repr__` for the dataclass. Here we don’t want the book’s weight shown in the `__repr__`, so we use repr=False to omit it.\n",
    "`compare`: By default (True), includes the field in the comparison methods automatically generated for the dataclass. Here, we don’t want condition to be used as part of the comparison for two books, so we set compare=False.\n",
    "\n",
    "Note that the order of the fields matters &mdash; the non-default fields come first.\n",
    "\n",
    "**Controlling Python dataclass initialization**\n",
    "\n",
    "To get control over the init process, use `__post_init__`.\n",
    "\n",
    "```python\n",
    "from dataclasses import dataclass, field\n",
    "from typing import List\n",
    "\n",
    "@dataclass\n",
    "class Book:\n",
    "    '''Object for tracking physical books in a collection.'''\n",
    "    name: str    \n",
    "    weight: float = field(default=0.0, repr=False)\n",
    "    shelf_id: Optional[int] = field(init=False)\n",
    "    chapters: List[str] = field(default_factory=list)\n",
    "    condition: str = field(default=\"Good\", compare=False)\n",
    "\n",
    "    def __post_init__(self):\n",
    "        if self.condition == \"Discarded\":\n",
    "            self.shelf_id = None\n",
    "        else:\n",
    "            self.shelf_id = 0\n",
    "```\n",
    "\n",
    "The `__post_init__` method sets `shelf_id` to `None` if the book’s condition is initialized as \"Discarded\". \n",
    "\n",
    "Note how we use field to initialize `shelf_id`, and pass `init` as `False` to field. \n",
    "\n",
    "This means `shelf_id` won’t be initialized in `__init__`.\n",
    "\n",
    "**`InitVar`**\n",
    "\n",
    "The `InitVar` type lets you specify a field that will be passed to `__init__` and then to `__post_init__`, but won’t be stored in the class instance.\n",
    "\n",
    "This allows you to take in parameters when setting up the dataclass that are only used during initialization. \n",
    "\n",
    "```python\n",
    "from dataclasses import dataclass, field, InitVar\n",
    "from typing import List\n",
    "\n",
    "@dataclass\n",
    "class Book:\n",
    "    '''Object for tracking physical books in a collection.'''\n",
    "    name: str     \n",
    "    condition: InitVar[str] = \"Good\"\n",
    "    weight: float = field(default=0.0, repr=False)\n",
    "    shelf_id: int = field(init=False)\n",
    "    chapters: List[str] = field(default_factory=list)\n",
    "\n",
    "    def __post_init__(self, condition):\n",
    "        if condition == \"Unacceptable\":\n",
    "            self.shelf_id = None\n",
    "        else:\n",
    "            self.shelf_id = 0\n",
    "```\n",
    "\n",
    "Setting a field’s type to `InitVar` signals to `@dataclass` to not make that field into a dataclass field, but to pass the data along to __post_init__ as an argument.\n",
    "\n",
    "For more info, check out [the Python docs on the subject](https://docs.python.org/3.11/library/dataclasses.html)."
   ]
  },
  {
   "cell_type": "markdown",
   "id": "3ae1bad1-f013-46a7-9732-1eddb5e2c313",
   "metadata": {},
   "source": [
    "# Comparing R and Python\n",
    "\n",
    "See [this resource](https://www.mit.edu/~amidi/teaching/data-science-tools/conversion-guide/r-python-data-manipulation/) from MIT."
   ]
  },
  {
   "cell_type": "markdown",
   "id": "572608ee-7b17-4942-a7b7-4c1bd84408e9",
   "metadata": {},
   "source": [
    "# Getting in Reps\n",
    "\n",
    "[W3Schools](https://www.w3schools.com/python) is a great site to develop your skills in Python codings.\n",
    "\n",
    "Try these [exercises](https://www.w3schools.com/python/python_exercises.asp) to reinforce what you've learned in this course."
   ]
  },
  {
   "cell_type": "markdown",
   "id": "e47cda52-78d4-4f39-8672-4a5a21858041",
   "metadata": {},
   "source": [
    "# Experiment"
   ]
  },
  {
   "cell_type": "code",
   "execution_count": 43,
   "id": "62d5fe8d-1802-4b6f-b16b-5ebf3459e7a9",
   "metadata": {
    "tags": []
   },
   "outputs": [],
   "source": [
    "from dataclasses import dataclass"
   ]
  },
  {
   "cell_type": "code",
   "execution_count": 59,
   "id": "ce127895-e5d6-4246-83a9-11f7cb870ffb",
   "metadata": {
    "tags": []
   },
   "outputs": [],
   "source": [
    "@dataclass\n",
    "class Test:\n",
    "    x:int = 0\n",
    "    y = []"
   ]
  },
  {
   "cell_type": "code",
   "execution_count": 52,
   "id": "d9ac7cea-b141-439f-a917-82a93bc8f71b",
   "metadata": {
    "tags": []
   },
   "outputs": [],
   "source": [
    "t1 = Test()\n",
    "t2 = Test()"
   ]
  },
  {
   "cell_type": "code",
   "execution_count": 53,
   "id": "d16ff696-8521-44d7-a86d-83e053484f4a",
   "metadata": {
    "tags": []
   },
   "outputs": [
    {
     "data": {
      "text/plain": [
       "(0, 0, 0)"
      ]
     },
     "execution_count": 53,
     "metadata": {},
     "output_type": "execute_result"
    }
   ],
   "source": [
    "Test.x, t1.x, t2.x"
   ]
  },
  {
   "cell_type": "code",
   "execution_count": 54,
   "id": "9ed05eb1-6442-4217-8485-9409ca4f0132",
   "metadata": {
    "tags": []
   },
   "outputs": [],
   "source": [
    "Test.x = 1"
   ]
  },
  {
   "cell_type": "code",
   "execution_count": 55,
   "id": "634249cb-b7a8-43b5-aeec-b4038ac83803",
   "metadata": {
    "tags": []
   },
   "outputs": [
    {
     "data": {
      "text/plain": [
       "(1, 0, 0)"
      ]
     },
     "execution_count": 55,
     "metadata": {},
     "output_type": "execute_result"
    }
   ],
   "source": [
    "Test.x, t1.x, t2.x"
   ]
  },
  {
   "cell_type": "markdown",
   "id": "84f919d5-575e-4bea-96aa-c384413be49d",
   "metadata": {},
   "source": [
    "But the mutables remain a problem:"
   ]
  },
  {
   "cell_type": "code",
   "execution_count": 56,
   "id": "b9ceb3f7-3127-4532-b5da-34a69cb0e88c",
   "metadata": {
    "tags": []
   },
   "outputs": [],
   "source": [
    "t1.y.append(1)"
   ]
  },
  {
   "cell_type": "code",
   "execution_count": 57,
   "id": "ff4140c7-243e-460b-abdd-2a98fa6c5729",
   "metadata": {
    "tags": []
   },
   "outputs": [
    {
     "data": {
      "text/plain": [
       "([1], [1], [1])"
      ]
     },
     "execution_count": 57,
     "metadata": {},
     "output_type": "execute_result"
    }
   ],
   "source": [
    "Test.y, t1.y, t2.y"
   ]
  },
  {
   "cell_type": "code",
   "execution_count": null,
   "id": "c6c602da-07ba-45f4-ab35-98ee37c841e6",
   "metadata": {},
   "outputs": [],
   "source": []
  }
 ],
 "metadata": {
  "kernelspec": {
   "display_name": "Python 3 (ipykernel)",
   "language": "python",
   "name": "python3"
  },
  "language_info": {
   "codemirror_mode": {
    "name": "ipython",
    "version": 3
   },
   "file_extension": ".py",
   "mimetype": "text/x-python",
   "name": "python",
   "nbconvert_exporter": "python",
   "pygments_lexer": "ipython3",
   "version": "3.11.4"
  },
  "toc-autonumbering": false
 },
 "nbformat": 4,
 "nbformat_minor": 5
}
