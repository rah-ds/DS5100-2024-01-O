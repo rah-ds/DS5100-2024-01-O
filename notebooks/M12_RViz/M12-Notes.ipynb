{
 "cells": [
  {
   "cell_type": "markdown",
   "id": "b5e23cd3-ae19-415f-aa6e-b73db9611c31",
   "metadata": {
    "tags": []
   },
   "source": [
    "# M12 Notes"
   ]
  },
  {
   "cell_type": "markdown",
   "id": "5a25ca5a-fad7-41a6-b612-b2a2f8c4a4a1",
   "metadata": {},
   "source": [
    "# Business\n",
    "\n",
    " No office hours this week."
   ]
  },
  {
   "cell_type": "markdown",
   "id": "7cfcfa95-fb7d-4d34-b36d-8160f21df586",
   "metadata": {},
   "source": [
    "# Curriculum\n",
    "\n",
    "You will have a chance to dig deeper into the subject in the pipeline course.\n",
    "\n",
    "# Design\n",
    "\n",
    "How we represent the world to machines for analysis\\\n",
    "and the results of our analyses to the world.\n",
    "\n",
    "Visualization is often used to cover this area.\n",
    "\n",
    "Visualization is also used as part of analysis to the\\\n",
    "extent that it is part of a human-in-the-loop process.\n",
    "\n",
    "Visualization relatively new\n",
    "\n",
    "- Part of the origin of statistics\n",
    "- Remerges in the 1960s with Tukey\n",
    "\n",
    "Kinds of visualization:\n",
    "\n",
    "- Exploratory data analysis\n",
    "- Annotation\n",
    "- Rhetorical: Papers, Posters, and Presentations\n",
    "- Interactive visualization"
   ]
  },
  {
   "cell_type": "markdown",
   "id": "65f38eb6-3453-467e-a445-c077e1865052",
   "metadata": {},
   "source": [
    "# Grammar of Graphics\n",
    "\n",
    "## Aesthetics and Geometries Review\n",
    "\n",
    "The two primary layers, above data, are aesthetics and geometrics.\n",
    "\n",
    "- _Aesthetics_ are the visual properties of the objects in your plot.\n",
    "- _Geometries_ are the structural spaces within which the objects in your plot are placed.\n",
    "\n",
    "**Aesthetics** \n",
    "\n",
    "The visual properties of the objects in your plot, such as position, color, size, and shape.\n",
    "\n",
    "**Positional Aesthetics** define where points, lines, bars, etc., appear in the plot, e.g. `x` and `y` coordinates.\n",
    "\n",
    "**Non-Positional Aesthetics** include size, shape, color, fill, alpha (transparency), and other visual aspects \n",
    "\n",
    "**Mapping** refers to the process of associating an aesthetic to a variable in your data. \n",
    "\n",
    "- For example, if color is mapped to a categorical variable, each value of the variable will appear in a different color.\n",
    "\n",
    "**Geometries (Geoms)** \n",
    "\n",
    "The _type_ of plot &mdash; the framing spatial structure &mdash; in which the data will be represented. \n",
    "\n",
    "Common geometries include:\n",
    "\n",
    "- **geom_point()**: for scatter plots. Perpendicular X and Y axes with points.\n",
    "- **geom_line()**: for line charts. Perpendicular X and Y axes with continuous lines.\n",
    "- **geom_bar()**: for bar charts. Perpendicular X and Y axes with X as a categorical value and Y as a metric value.\n",
    "- **geom_histogram()**: for histograms. Perpendicular X and Y axes with X as a binned continuous value or categorical value and Y as a count.\n",
    "\n",
    "**Relationship between the two**\n",
    "\n",
    "Each geom function typically requires certain aesthetics to function correctly. \n",
    "\n",
    "For example:\n",
    "\n",
    "- `geom_point()` requires `x` and `y` aesthetics to position the points,\n",
    "- while `geom_bar()` might only need an `x` aesthetic if you're doing a simple count.\n",
    "\n",
    "**Layering and Inheritance**\n",
    "\n",
    "Aesthetic mappings can be set in the main `ggplot()` function _or_ within individual geometries (geoms). \n",
    "\n",
    "If set in `ggplot()`, the mapping applies to all layers of the plot, unless overridden in a specific geom. \n",
    "\n",
    "Conversely, aesthetics set in a geom apply only to that geom.\n",
    "\n",
    "It's kind of like scope.\n",
    "\n",
    "**Static vs Mapped Aesthetics**\n",
    "\n",
    "Mapped aesthetics are defined within `aes()` and vary based on data.\n",
    "\n",
    "Static aesthetics are set outside `aes()` and are constant for all data points. \n",
    "\n",
    "For example:\n",
    "- `aes(color = variable)` maps colors based on variable.\n",
    "- `geom_point(color = \"red\")` sets a static color (red) for all points."
   ]
  },
  {
   "cell_type": "code",
   "execution_count": null,
   "id": "0eea3c1f-1c48-44d6-a07e-705783edf5ea",
   "metadata": {},
   "outputs": [],
   "source": []
  }
 ],
 "metadata": {
  "kernelspec": {
   "display_name": "R Environment",
   "language": "R",
   "name": "r_env"
  },
  "language_info": {
   "codemirror_mode": "r",
   "file_extension": ".r",
   "mimetype": "text/x-r-source",
   "name": "R",
   "pygments_lexer": "r",
   "version": "4.3.1"
  }
 },
 "nbformat": 4,
 "nbformat_minor": 5
}
