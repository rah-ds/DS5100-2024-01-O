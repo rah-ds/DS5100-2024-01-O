{
 "cells": [
  {
   "cell_type": "markdown",
   "id": "2dd0b274-95c5-4d18-aa76-756d14f5f4b7",
   "metadata": {},
   "source": [
    "# NB: Demonstrations of Import and `__init__.py()`"
   ]
  },
  {
   "cell_type": "markdown",
   "id": "e1558d88-06c6-4c79-80bd-e9d33839883e",
   "metadata": {},
   "source": [
    "This notebook explains why and how to import modules in a package's `__init__.py` file."
   ]
  },
  {
   "cell_type": "markdown",
   "id": "b7196f85-47c6-4878-b652-c2d51069c5fe",
   "metadata": {
    "tags": []
   },
   "source": [
    "# Preloading Modules and Functions\n",
    "\n",
    "You can put any code you want in a `__init__.py` file.\n",
    "\n",
    "It's as if the package directory is a module, and the contents the init file is the content of the module."
   ]
  },
  {
   "cell_type": "markdown",
   "id": "1659aa1f-21f5-483e-bd0f-f089ba97ccaf",
   "metadata": {},
   "source": [
    "A common use case for putting code into the init file is to preload modules when importing the package.\n",
    "\n",
    "This can be useful if you want to make certain modules available to all other modules in your project.\n",
    "\n",
    "You can also use it to import files in your own project for convenience.\n",
    "\n",
    "For example, let's say you have the following package set up:\n",
    "\n",
    "```bash\n",
    "funny/\n",
    "    __init__.py\n",
    "    funniest.py # contains the function joke()\n",
    "```"
   ]
  },
  {
   "cell_type": "markdown",
   "id": "52342944-9d5f-47b7-b65f-450006ed5527",
   "metadata": {},
   "source": [
    "If you wanted to import the module `funniest` and have access to the function `joke()`, you'd have to do this:\n",
    "\n",
    "```python\n",
    "import funny.funniest\n",
    "```\n",
    "\n",
    "And then to use the function, do this:\n",
    "\n",
    "```python\n",
    "funny.funniest.joke()\n",
    "```\n",
    "\n",
    "You **can't** do this:\n",
    "\n",
    "```python\n",
    "import funny\n",
    "\n",
    "funny.funniest.joke()\n",
    "```\n",
    "\n",
    "You could also do this:\n",
    "\n",
    "```python\n",
    "from funny import funniest\n",
    "\n",
    "funniest.joke()\n",
    "```\n",
    "\n",
    "Or even this:\n",
    "\n",
    "```python\n",
    "from funny.funniest import joke\n",
    "\n",
    "joke()\n",
    "```\n",
    "\n",
    "Note, you **can't** do this:\n",
    "\n",
    "```python\n",
    "from funny import funniest.joke\n",
    "```"
   ]
  },
  {
   "cell_type": "markdown",
   "id": "cb7f4e89-056d-4b06-ab08-b78bcf44e551",
   "metadata": {},
   "source": [
    "Notice the grammar here. \n",
    "\n",
    "The `from` command provides a **context**, and the `import` command specifies the variable name for the resource.\n",
    "\n",
    "In each case, what follows `import` is the name of the resource you will use to access it."
   ]
  },
  {
   "cell_type": "markdown",
   "id": "68814f48-b619-43a4-a4f5-da7264b5c3dc",
   "metadata": {},
   "source": [
    "Now, you can **by-pass** having to import the module doing this in the init file.\n",
    "\n",
    "Basically, you can put the same import line into the init file, and it's as if you did it in your program.\n",
    "\n",
    "Here are some scenarios."
   ]
  },
  {
   "cell_type": "markdown",
   "id": "db812160-c25e-4b83-9929-38ac1861d500",
   "metadata": {},
   "source": [
    "In the init file:\n",
    "\n",
    "```python\n",
    "import funny.funniest\n",
    "```\n",
    "\n",
    "Then in the program:\n",
    "\n",
    "```python\n",
    "import funny\n",
    "\n",
    "funny.funniest.joke()\n",
    "```"
   ]
  },
  {
   "cell_type": "markdown",
   "id": "0d447a27-2b92-4eb1-af40-3ef7fd9d7a8d",
   "metadata": {},
   "source": [
    "Or, in the init file:\n",
    "\n",
    "```python\n",
    "from funny import funniest\n",
    "```\n",
    "\n",
    "Then in the program:\n",
    "\n",
    "```python\n",
    "import funny\n",
    "\n",
    "funny.funniest.joke()\n",
    "```"
   ]
  },
  {
   "cell_type": "markdown",
   "id": "5ae4ff74-2c41-4814-8a60-9869b32e27de",
   "metadata": {},
   "source": [
    "Or, in the init file:\n",
    "\n",
    "```python\n",
    "from funny.funniest import joke\n",
    "```\n",
    "\n",
    "Then in the program:\n",
    "\n",
    "```python\n",
    "import funny\n",
    "\n",
    "funny.joke()\n",
    "```\n",
    "\n",
    "Or\n",
    "\n",
    "```python\n",
    "from funny import joke\n",
    "\n",
    "joke()\n",
    "```"
   ]
  },
  {
   "cell_type": "markdown",
   "id": "a6d8a1f6-50f9-4945-b412-a5345eb3a881",
   "metadata": {},
   "source": [
    "# Relative vs Absolute \n",
    "\n",
    "You will sometimes see a dot `.` used in the import statements found in init files.\n",
    "\n",
    "It is used in the context a `from` statement. For example:\n",
    "\n",
    "```python\n",
    "from . import funniest\n",
    "```\n",
    "\n",
    "or \n",
    "\n",
    "```python\n",
    "from .funniest import joke\n",
    "```"
   ]
  },
  {
   "cell_type": "markdown",
   "id": "d442c7bb-65fc-4a98-accf-a98bde83714b",
   "metadata": {},
   "source": [
    "The dot is used to shift from absolute to relative path."
   ]
  },
  {
   "cell_type": "markdown",
   "id": "8e4ba68e-7893-4a83-806b-4ab8a03558da",
   "metadata": {
    "tags": []
   },
   "source": [
    "In other words, when you import modules in an `__init__.py` file within a package, the dot (`.`) refers to the current package or module's namespace. \n",
    "\n",
    "For example, consider a package structure like this:\n",
    "\n",
    "```\n",
    "mypackage/\n",
    "    __init__.py\n",
    "    module1.py\n",
    "    module2.py\n",
    "```\n",
    "\n",
    "Inside the `__init__.py` file, if you import `module1` using a relative import with a dot (`.`), it would look like this:\n",
    "\n",
    "```python\n",
    "from . import module1\n",
    "```\n",
    "\n",
    "This means that `module1` is being imported from the current package (`mypackage` in this case). \n",
    "\n",
    "Similarly, if you wanted to import `module2` from `module1`, you could do it like this:\n",
    "\n",
    "```python\n",
    "from . import module2\n",
    "```\n",
    "\n",
    "This would import `module2` from the same package as the `__init__.py` file.\n",
    "\n",
    "Using dot notation for imports in `__init__.py` is a way to make relative imports within the package, making the code more readable and maintainable."
   ]
  },
  {
   "cell_type": "markdown",
   "id": "80053cfe-4b2a-42a3-bf56-573a19eeea8f",
   "metadata": {},
   "source": [
    "# Demo 1: Empty `__init__.py`"
   ]
  },
  {
   "cell_type": "code",
   "execution_count": 10,
   "id": "b6950e5e-7489-4640-a3f2-e287b18338af",
   "metadata": {},
   "outputs": [],
   "source": [
    "import demo_package1.module1 as d1m"
   ]
  },
  {
   "cell_type": "code",
   "execution_count": 11,
   "id": "88715859-ad41-4367-ab4f-35f01ca432b0",
   "metadata": {},
   "outputs": [
    {
     "name": "stdout",
     "output_type": "stream",
     "text": [
      "Hi, I'm from Demo 1!\n"
     ]
    }
   ],
   "source": [
    "d1m.welcome1()"
   ]
  },
  {
   "cell_type": "code",
   "execution_count": 3,
   "id": "6bb3ef0e-822f-4fff-8b27-5e99f370fc55",
   "metadata": {},
   "outputs": [],
   "source": [
    "from demo_package1.module1 import welcome1"
   ]
  },
  {
   "cell_type": "code",
   "execution_count": 4,
   "id": "8bb2ebc2-f133-4880-b8fe-24cf85a44ef0",
   "metadata": {},
   "outputs": [
    {
     "name": "stdout",
     "output_type": "stream",
     "text": [
      "Hi, I'm from Demo 1!\n"
     ]
    }
   ],
   "source": [
    "welcome1()"
   ]
  },
  {
   "cell_type": "markdown",
   "id": "165bd46c-1819-4588-9081-9f2f5a2d1ec3",
   "metadata": {
    "tags": []
   },
   "source": [
    "# Demo 2: Edited `__init__.py`\n",
    "\n",
    "You can allow the users to import a module function directly from a package by simply adding:\n",
    "\n",
    "```python\n",
    "from package.module import func # or class\n",
    "```\n",
    "\n",
    "or \n",
    "\n",
    "```python\n",
    "from .module import func # or class\n",
    "```\n",
    "to your `__init__.py` file.\n",
    "\n",
    "\n",
    "For example, our Demo2 `__init__().py` contains:\n",
    "\n",
    "```python\n",
    "from demo_package2.module2 import welcome2\n",
    "```\n"
   ]
  },
  {
   "cell_type": "markdown",
   "id": "642fbe77-f1f5-46a6-a743-f56043ab7dca",
   "metadata": {},
   "source": [
    "This allows me to do this:"
   ]
  },
  {
   "cell_type": "code",
   "execution_count": 12,
   "id": "b35a9f72-e6e2-4943-8ff2-d9a30ed13854",
   "metadata": {},
   "outputs": [],
   "source": [
    "import demo_package2 as d2"
   ]
  },
  {
   "cell_type": "code",
   "execution_count": 13,
   "id": "95ee3764-1e88-473e-8c92-eb7211eea1d8",
   "metadata": {},
   "outputs": [
    {
     "name": "stdout",
     "output_type": "stream",
     "text": [
      "Hi, I'm from Demo 2!\n"
     ]
    }
   ],
   "source": [
    "d2.welcome2()"
   ]
  },
  {
   "cell_type": "markdown",
   "id": "20d6fe6d-d68a-4147-a5b3-57559a2879d5",
   "metadata": {},
   "source": [
    "Or this:"
   ]
  },
  {
   "cell_type": "code",
   "execution_count": 14,
   "id": "d9ea6be2-278b-41bf-bd6e-77b7e4e7ddbb",
   "metadata": {},
   "outputs": [],
   "source": [
    "from demo_package2 import welcome2"
   ]
  },
  {
   "cell_type": "code",
   "execution_count": 15,
   "id": "0583e1b9-675e-4402-a6cb-bf4b2fb86dac",
   "metadata": {
    "tags": []
   },
   "outputs": [
    {
     "name": "stdout",
     "output_type": "stream",
     "text": [
      "Hi, I'm from Demo 2!\n"
     ]
    }
   ],
   "source": [
    "welcome2()"
   ]
  },
  {
   "cell_type": "code",
   "execution_count": null,
   "id": "ae4382d3-1f66-4d05-a2b3-5393b6bfe743",
   "metadata": {},
   "outputs": [],
   "source": []
  }
 ],
 "metadata": {
  "kernelspec": {
   "display_name": "Python 3 (ipykernel)",
   "language": "python",
   "name": "python3"
  },
  "language_info": {
   "codemirror_mode": {
    "name": "ipython",
    "version": 3
   },
   "file_extension": ".py",
   "mimetype": "text/x-python",
   "name": "python",
   "nbconvert_exporter": "python",
   "pygments_lexer": "ipython3",
   "version": "3.11.4"
  },
  "vscode": {
   "interpreter": {
    "hash": "c3b963de08c47c3b6758389c5e0978ad73698a111eb508d4e16b558edb8f4cbf"
   }
  },
  "widgets": {
   "application/vnd.jupyter.widget-state+json": {
    "state": {},
    "version_major": 2,
    "version_minor": 0
   }
  }
 },
 "nbformat": 4,
 "nbformat_minor": 5
}
