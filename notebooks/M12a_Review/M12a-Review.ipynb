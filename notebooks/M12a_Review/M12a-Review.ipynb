{
 "cells": [
  {
   "cell_type": "markdown",
   "id": "e8eff5a8-a7f3-42e8-bb21-195543a02081",
   "metadata": {},
   "source": [
    "# M12a Review"
   ]
  },
  {
   "cell_type": "markdown",
   "id": "7130a140-691f-411b-ab5f-457610848fe4",
   "metadata": {},
   "source": [
    "Topics\n",
    "\n",
    "- Hazlett, Alanna (uwa6xv) Pandas Dataframes, working with multi-index, narrow and wide formats."
   ]
  },
  {
   "cell_type": "code",
   "execution_count": null,
   "id": "74bfd6f8-9a39-42dd-9059-43a0f7de9d37",
   "metadata": {},
   "outputs": [],
   "source": []
  }
 ],
 "metadata": {
  "kernelspec": {
   "display_name": "eta",
   "language": "python",
   "name": "eta"
  },
  "language_info": {
   "codemirror_mode": {
    "name": "ipython",
    "version": 3
   },
   "file_extension": ".py",
   "mimetype": "text/x-python",
   "name": "python",
   "nbconvert_exporter": "python",
   "pygments_lexer": "ipython3",
   "version": "3.9.19"
  }
 },
 "nbformat": 4,
 "nbformat_minor": 5
}
