{
 "cells": [
  {
   "cell_type": "code",
   "execution_count": 1,
   "id": "df32ba81-aeeb-4980-b337-cec86eee4f56",
   "metadata": {
    "tags": []
   },
   "outputs": [],
   "source": [
    "import pandas as pd"
   ]
  },
  {
   "cell_type": "markdown",
   "id": "ce06a9e9",
   "metadata": {},
   "source": [
    "Replace file name value for `src_file` with downloaded CSV from online form."
   ]
  },
  {
   "cell_type": "code",
   "execution_count": 2,
   "id": "a13947a7",
   "metadata": {
    "tags": []
   },
   "outputs": [],
   "source": [
    "src_file = \"survey.csv\" \n",
    "df = pd.read_csv(src_file).dropna(axis=1)"
   ]
  },
  {
   "cell_type": "code",
   "execution_count": 16,
   "id": "a7b30cdf-4b7d-4ca2-bf2f-62abbb9112b9",
   "metadata": {
    "tags": []
   },
   "outputs": [],
   "source": [
    "N = len(df)"
   ]
  },
  {
   "cell_type": "code",
   "execution_count": 17,
   "id": "cf28dd0d-d5ed-490a-82b0-fdf9fc3661fe",
   "metadata": {
    "tags": []
   },
   "outputs": [
    {
     "data": {
      "text/plain": [
       "25"
      ]
     },
     "execution_count": 17,
     "metadata": {},
     "output_type": "execute_result"
    }
   ],
   "source": [
    "N"
   ]
  },
  {
   "cell_type": "code",
   "execution_count": 4,
   "id": "e9c357c7-aade-4ea9-a4b6-f8400ac6a954",
   "metadata": {
    "tags": []
   },
   "outputs": [
    {
     "data": {
      "text/plain": [
       "Python\n",
       "Beginner         16\n",
       "Inter-mediate     8\n",
       "Advanced          1\n",
       "Name: count, dtype: int64"
      ]
     },
     "execution_count": 4,
     "metadata": {},
     "output_type": "execute_result"
    }
   ],
   "source": [
    "df.value_counts('Python')"
   ]
  },
  {
   "cell_type": "code",
   "execution_count": 5,
   "id": "9ece0018-6415-4edc-98dc-8ecc2f4f2942",
   "metadata": {
    "tags": []
   },
   "outputs": [],
   "source": [
    "df.columns = \"id start end email name degree paid python r matlab java sql os enjoy javascript\".split()"
   ]
  },
  {
   "cell_type": "code",
   "execution_count": 6,
   "id": "8c135697-5329-46ad-9770-127691224c29",
   "metadata": {
    "tags": []
   },
   "outputs": [],
   "source": [
    "# df"
   ]
  },
  {
   "cell_type": "code",
   "execution_count": 7,
   "id": "12274772-c335-4e67-946e-186dcad0a7e4",
   "metadata": {
    "tags": []
   },
   "outputs": [],
   "source": [
    "G = df.groupby('python')"
   ]
  },
  {
   "cell_type": "code",
   "execution_count": 8,
   "id": "11410c58-2242-4985-b833-fc67fe4f8041",
   "metadata": {
    "tags": []
   },
   "outputs": [],
   "source": [
    "A = G.get_group(\"Advanced\")"
   ]
  },
  {
   "cell_type": "code",
   "execution_count": 14,
   "id": "096b73dc-fc33-4f06-8419-10e1af654164",
   "metadata": {
    "tags": []
   },
   "outputs": [],
   "source": [
    "I = G.get_group(\"Inter-mediate\")"
   ]
  },
  {
   "cell_type": "code",
   "execution_count": 9,
   "id": "e884af1a-481d-4166-9e3f-a07aed4d4db7",
   "metadata": {
    "tags": []
   },
   "outputs": [],
   "source": [
    "B = G.get_group(\"Beginner\")"
   ]
  },
  {
   "cell_type": "code",
   "execution_count": 18,
   "id": "4a4bffd8-fc62-4675-a578-f40cf826afb4",
   "metadata": {
    "tags": []
   },
   "outputs": [],
   "source": [
    "cols = [3,4,5,6]"
   ]
  },
  {
   "cell_type": "code",
   "execution_count": 10,
   "id": "0c67bbf6-c4b4-4619-a4c6-4c61c4f5fee2",
   "metadata": {
    "tags": []
   },
   "outputs": [
    {
     "data": {
      "text/html": [
       "<div>\n",
       "<style scoped>\n",
       "    .dataframe tbody tr th:only-of-type {\n",
       "        vertical-align: middle;\n",
       "    }\n",
       "\n",
       "    .dataframe tbody tr th {\n",
       "        vertical-align: top;\n",
       "    }\n",
       "\n",
       "    .dataframe thead th {\n",
       "        text-align: right;\n",
       "    }\n",
       "</style>\n",
       "<table border=\"1\" class=\"dataframe\">\n",
       "  <thead>\n",
       "    <tr style=\"text-align: right;\">\n",
       "      <th></th>\n",
       "      <th>id</th>\n",
       "      <th>start</th>\n",
       "      <th>end</th>\n",
       "      <th>email</th>\n",
       "      <th>name</th>\n",
       "      <th>degree</th>\n",
       "      <th>paid</th>\n",
       "      <th>python</th>\n",
       "      <th>r</th>\n",
       "      <th>matlab</th>\n",
       "      <th>java</th>\n",
       "      <th>sql</th>\n",
       "      <th>os</th>\n",
       "      <th>enjoy</th>\n",
       "      <th>javascript</th>\n",
       "    </tr>\n",
       "  </thead>\n",
       "  <tbody>\n",
       "    <tr>\n",
       "      <th>2</th>\n",
       "      <td>3</td>\n",
       "      <td>1/17/24 18:43:15</td>\n",
       "      <td>1/17/24 18:45:10</td>\n",
       "      <td>uts4gf@virginia.edu</td>\n",
       "      <td>Olivia Kantor</td>\n",
       "      <td>Humanities;</td>\n",
       "      <td>Yes</td>\n",
       "      <td>Advanced</td>\n",
       "      <td>Beginner</td>\n",
       "      <td>Beginner</td>\n",
       "      <td>Beginner</td>\n",
       "      <td>Inter-mediate</td>\n",
       "      <td>MacOS</td>\n",
       "      <td>Yes</td>\n",
       "      <td>Beginner</td>\n",
       "    </tr>\n",
       "  </tbody>\n",
       "</table>\n",
       "</div>"
      ],
      "text/plain": [
       "   id             start               end                email           name  \\\n",
       "2   3  1/17/24 18:43:15  1/17/24 18:45:10  uts4gf@virginia.edu  Olivia Kantor   \n",
       "\n",
       "        degree paid    python         r    matlab      java            sql  \\\n",
       "2  Humanities;  Yes  Advanced  Beginner  Beginner  Beginner  Inter-mediate   \n",
       "\n",
       "      os enjoy javascript  \n",
       "2  MacOS   Yes   Beginner  "
      ]
     },
     "execution_count": 10,
     "metadata": {},
     "output_type": "execute_result"
    }
   ],
   "source": [
    "A"
   ]
  },
  {
   "cell_type": "code",
   "execution_count": 19,
   "id": "838d2d8f-1fe6-44ee-be76-a4e7fcbd62f6",
   "metadata": {
    "tags": []
   },
   "outputs": [
    {
     "data": {
      "text/html": [
       "<div>\n",
       "<style scoped>\n",
       "    .dataframe tbody tr th:only-of-type {\n",
       "        vertical-align: middle;\n",
       "    }\n",
       "\n",
       "    .dataframe tbody tr th {\n",
       "        vertical-align: top;\n",
       "    }\n",
       "\n",
       "    .dataframe thead th {\n",
       "        text-align: right;\n",
       "    }\n",
       "</style>\n",
       "<table border=\"1\" class=\"dataframe\">\n",
       "  <thead>\n",
       "    <tr style=\"text-align: right;\">\n",
       "      <th></th>\n",
       "      <th>email</th>\n",
       "      <th>name</th>\n",
       "      <th>degree</th>\n",
       "      <th>paid</th>\n",
       "    </tr>\n",
       "  </thead>\n",
       "  <tbody>\n",
       "    <tr>\n",
       "      <th>2</th>\n",
       "      <td>uts4gf@virginia.edu</td>\n",
       "      <td>Olivia Kantor</td>\n",
       "      <td>Humanities;</td>\n",
       "      <td>Yes</td>\n",
       "    </tr>\n",
       "  </tbody>\n",
       "</table>\n",
       "</div>"
      ],
      "text/plain": [
       "                 email           name       degree paid\n",
       "2  uts4gf@virginia.edu  Olivia Kantor  Humanities;  Yes"
      ]
     },
     "execution_count": 19,
     "metadata": {},
     "output_type": "execute_result"
    }
   ],
   "source": [
    "A.iloc[:, cols]"
   ]
  },
  {
   "cell_type": "code",
   "execution_count": 20,
   "id": "080ea893-346b-4e5b-b0fa-9607e3a17aaa",
   "metadata": {
    "tags": []
   },
   "outputs": [
    {
     "data": {
      "text/html": [
       "<div>\n",
       "<style scoped>\n",
       "    .dataframe tbody tr th:only-of-type {\n",
       "        vertical-align: middle;\n",
       "    }\n",
       "\n",
       "    .dataframe tbody tr th {\n",
       "        vertical-align: top;\n",
       "    }\n",
       "\n",
       "    .dataframe thead th {\n",
       "        text-align: right;\n",
       "    }\n",
       "</style>\n",
       "<table border=\"1\" class=\"dataframe\">\n",
       "  <thead>\n",
       "    <tr style=\"text-align: right;\">\n",
       "      <th></th>\n",
       "      <th>email</th>\n",
       "      <th>name</th>\n",
       "      <th>degree</th>\n",
       "      <th>paid</th>\n",
       "    </tr>\n",
       "  </thead>\n",
       "  <tbody>\n",
       "    <tr>\n",
       "      <th>0</th>\n",
       "      <td>ia5qk@virginia.edu</td>\n",
       "      <td>Isha Anand</td>\n",
       "      <td>Humanities;</td>\n",
       "      <td>No</td>\n",
       "    </tr>\n",
       "    <tr>\n",
       "      <th>6</th>\n",
       "      <td>kvu2et@virginia.edu</td>\n",
       "      <td>Trenton Ribbens</td>\n",
       "      <td>Engineering;</td>\n",
       "      <td>No</td>\n",
       "    </tr>\n",
       "    <tr>\n",
       "      <th>8</th>\n",
       "      <td>db5kb@virginia.edu</td>\n",
       "      <td>David Baisas</td>\n",
       "      <td>Unlisted STEM;</td>\n",
       "      <td>Yes</td>\n",
       "    </tr>\n",
       "    <tr>\n",
       "      <th>10</th>\n",
       "      <td>dss2q@virginia.edu</td>\n",
       "      <td>Daniel Stornetta</td>\n",
       "      <td>Humanities;</td>\n",
       "      <td>No</td>\n",
       "    </tr>\n",
       "    <tr>\n",
       "      <th>13</th>\n",
       "      <td>dfe2zj@virginia.edu</td>\n",
       "      <td>Venkat Viswanathan</td>\n",
       "      <td>Engineering;</td>\n",
       "      <td>Yes</td>\n",
       "    </tr>\n",
       "    <tr>\n",
       "      <th>15</th>\n",
       "      <td>ycv3fh@virginia.edu</td>\n",
       "      <td>Clarissa Benitez</td>\n",
       "      <td>Math;</td>\n",
       "      <td>No</td>\n",
       "    </tr>\n",
       "    <tr>\n",
       "      <th>20</th>\n",
       "      <td>tar3kh@virginia.edu</td>\n",
       "      <td>Timothy Rodriguez</td>\n",
       "      <td>Social Science;</td>\n",
       "      <td>Yes</td>\n",
       "    </tr>\n",
       "    <tr>\n",
       "      <th>23</th>\n",
       "      <td>qfw3cr@virginia.edu</td>\n",
       "      <td>Victor Ontiveros</td>\n",
       "      <td>Computer Science;</td>\n",
       "      <td>Yes</td>\n",
       "    </tr>\n",
       "  </tbody>\n",
       "</table>\n",
       "</div>"
      ],
      "text/plain": [
       "                  email                name             degree paid\n",
       "0    ia5qk@virginia.edu          Isha Anand        Humanities;   No\n",
       "6   kvu2et@virginia.edu     Trenton Ribbens       Engineering;   No\n",
       "8    db5kb@virginia.edu        David Baisas     Unlisted STEM;  Yes\n",
       "10   dss2q@virginia.edu    Daniel Stornetta        Humanities;   No\n",
       "13  dfe2zj@virginia.edu  Venkat Viswanathan       Engineering;  Yes\n",
       "15  ycv3fh@virginia.edu    Clarissa Benitez              Math;   No\n",
       "20  tar3kh@virginia.edu   Timothy Rodriguez    Social Science;  Yes\n",
       "23  qfw3cr@virginia.edu    Victor Ontiveros  Computer Science;  Yes"
      ]
     },
     "execution_count": 20,
     "metadata": {},
     "output_type": "execute_result"
    }
   ],
   "source": [
    "I.iloc[:, cols]"
   ]
  },
  {
   "cell_type": "code",
   "execution_count": 21,
   "id": "71c27e32-e1cd-426d-8a78-96fdb57f5548",
   "metadata": {
    "tags": []
   },
   "outputs": [
    {
     "data": {
      "text/html": [
       "<div>\n",
       "<style scoped>\n",
       "    .dataframe tbody tr th:only-of-type {\n",
       "        vertical-align: middle;\n",
       "    }\n",
       "\n",
       "    .dataframe tbody tr th {\n",
       "        vertical-align: top;\n",
       "    }\n",
       "\n",
       "    .dataframe thead th {\n",
       "        text-align: right;\n",
       "    }\n",
       "</style>\n",
       "<table border=\"1\" class=\"dataframe\">\n",
       "  <thead>\n",
       "    <tr style=\"text-align: right;\">\n",
       "      <th></th>\n",
       "      <th>email</th>\n",
       "      <th>name</th>\n",
       "      <th>degree</th>\n",
       "      <th>paid</th>\n",
       "    </tr>\n",
       "  </thead>\n",
       "  <tbody>\n",
       "    <tr>\n",
       "      <th>1</th>\n",
       "      <td>uwa6xv@virginia.edu</td>\n",
       "      <td>Alanna Hazlett</td>\n",
       "      <td>Natural Science;</td>\n",
       "      <td>No</td>\n",
       "    </tr>\n",
       "    <tr>\n",
       "      <th>3</th>\n",
       "      <td>nzt3px@virginia.edu</td>\n",
       "      <td>Thanh Doan</td>\n",
       "      <td>Statistics;Social Science;</td>\n",
       "      <td>No</td>\n",
       "    </tr>\n",
       "    <tr>\n",
       "      <th>4</th>\n",
       "      <td>fxj5fe@virginia.edu</td>\n",
       "      <td>David Hernandez</td>\n",
       "      <td>Social Science;</td>\n",
       "      <td>No</td>\n",
       "    </tr>\n",
       "    <tr>\n",
       "      <th>5</th>\n",
       "      <td>zsf9pd@virginia.edu</td>\n",
       "      <td>Vicky Singh</td>\n",
       "      <td>Engineering;</td>\n",
       "      <td>Yes</td>\n",
       "    </tr>\n",
       "    <tr>\n",
       "      <th>7</th>\n",
       "      <td>bdg5g@virginia.edu</td>\n",
       "      <td>Brady Genz</td>\n",
       "      <td>Computer Science;Math;Engineering;</td>\n",
       "      <td>No</td>\n",
       "    </tr>\n",
       "    <tr>\n",
       "      <th>9</th>\n",
       "      <td>rcs2mh@virginia.edu</td>\n",
       "      <td>Etienne Jimenez</td>\n",
       "      <td>Math;</td>\n",
       "      <td>No</td>\n",
       "    </tr>\n",
       "    <tr>\n",
       "      <th>11</th>\n",
       "      <td>nge4py@virginia.edu</td>\n",
       "      <td>Christian Ollen</td>\n",
       "      <td>Unlisted STEM;</td>\n",
       "      <td>No</td>\n",
       "    </tr>\n",
       "    <tr>\n",
       "      <th>12</th>\n",
       "      <td>ctx8bn@virginia.edu</td>\n",
       "      <td>Isabella Paolucci</td>\n",
       "      <td>Natural Science;</td>\n",
       "      <td>No</td>\n",
       "    </tr>\n",
       "    <tr>\n",
       "      <th>14</th>\n",
       "      <td>vun4kt@virginia.edu</td>\n",
       "      <td>Elisa de la Vega Ricardo</td>\n",
       "      <td>Unlisted STEM;</td>\n",
       "      <td>Yes</td>\n",
       "    </tr>\n",
       "    <tr>\n",
       "      <th>16</th>\n",
       "      <td>cbv6gd@virginia.edu</td>\n",
       "      <td>Devlin Bridges</td>\n",
       "      <td>Math;</td>\n",
       "      <td>Yes</td>\n",
       "    </tr>\n",
       "    <tr>\n",
       "      <th>17</th>\n",
       "      <td>sck4jh@virginia.edu</td>\n",
       "      <td>Sam Knisely</td>\n",
       "      <td>Statistics;Unlisted Non-STEM;</td>\n",
       "      <td>Yes</td>\n",
       "    </tr>\n",
       "    <tr>\n",
       "      <th>18</th>\n",
       "      <td>cdw7dr@virginia.edu</td>\n",
       "      <td>Christopher Wikoff</td>\n",
       "      <td>Social Science;</td>\n",
       "      <td>No</td>\n",
       "    </tr>\n",
       "    <tr>\n",
       "      <th>19</th>\n",
       "      <td>etk3pu@virginia.edu</td>\n",
       "      <td>Alec Pixton</td>\n",
       "      <td>Unlisted STEM;</td>\n",
       "      <td>No</td>\n",
       "    </tr>\n",
       "    <tr>\n",
       "      <th>21</th>\n",
       "      <td>fyb7sx@virginia.edu</td>\n",
       "      <td>Emmanuel Leonce</td>\n",
       "      <td>Engineering;</td>\n",
       "      <td>No</td>\n",
       "    </tr>\n",
       "    <tr>\n",
       "      <th>22</th>\n",
       "      <td>ki5rb@virginia.edu</td>\n",
       "      <td>Karunya Iyappan</td>\n",
       "      <td>Humanities;Social Science;</td>\n",
       "      <td>No</td>\n",
       "    </tr>\n",
       "    <tr>\n",
       "      <th>24</th>\n",
       "      <td>esa5ch@virginia.edu</td>\n",
       "      <td>Eric Arnold</td>\n",
       "      <td>Engineering;Humanities;</td>\n",
       "      <td>No</td>\n",
       "    </tr>\n",
       "  </tbody>\n",
       "</table>\n",
       "</div>"
      ],
      "text/plain": [
       "                  email                      name  \\\n",
       "1   uwa6xv@virginia.edu            Alanna Hazlett   \n",
       "3   nzt3px@virginia.edu                Thanh Doan   \n",
       "4   fxj5fe@virginia.edu           David Hernandez   \n",
       "5   zsf9pd@virginia.edu               Vicky Singh   \n",
       "7    bdg5g@virginia.edu                Brady Genz   \n",
       "9   rcs2mh@virginia.edu           Etienne Jimenez   \n",
       "11  nge4py@virginia.edu           Christian Ollen   \n",
       "12  ctx8bn@virginia.edu         Isabella Paolucci   \n",
       "14  vun4kt@virginia.edu  Elisa de la Vega Ricardo   \n",
       "16  cbv6gd@virginia.edu            Devlin Bridges   \n",
       "17  sck4jh@virginia.edu               Sam Knisely   \n",
       "18  cdw7dr@virginia.edu        Christopher Wikoff   \n",
       "19  etk3pu@virginia.edu               Alec Pixton   \n",
       "21  fyb7sx@virginia.edu           Emmanuel Leonce   \n",
       "22   ki5rb@virginia.edu           Karunya Iyappan   \n",
       "24  esa5ch@virginia.edu               Eric Arnold   \n",
       "\n",
       "                                degree paid  \n",
       "1                     Natural Science;   No  \n",
       "3           Statistics;Social Science;   No  \n",
       "4                      Social Science;   No  \n",
       "5                         Engineering;  Yes  \n",
       "7   Computer Science;Math;Engineering;   No  \n",
       "9                                Math;   No  \n",
       "11                      Unlisted STEM;   No  \n",
       "12                    Natural Science;   No  \n",
       "14                      Unlisted STEM;  Yes  \n",
       "16                               Math;  Yes  \n",
       "17       Statistics;Unlisted Non-STEM;  Yes  \n",
       "18                     Social Science;   No  \n",
       "19                      Unlisted STEM;   No  \n",
       "21                        Engineering;   No  \n",
       "22          Humanities;Social Science;   No  \n",
       "24             Engineering;Humanities;   No  "
      ]
     },
     "execution_count": 21,
     "metadata": {},
     "output_type": "execute_result"
    }
   ],
   "source": [
    "B.iloc[:, cols]"
   ]
  },
  {
   "cell_type": "code",
   "execution_count": 24,
   "id": "deca3241-d843-42a4-8aa7-b0cb2ce4def6",
   "metadata": {
    "tags": []
   },
   "outputs": [
    {
     "data": {
      "image/png": "[encoded data removed]",
      "text/plain": [
       "<Figure size 640x480 with 1 Axes>"
      ]
     },
     "metadata": {},
     "output_type": "display_data"
    }
   ],
   "source": [
    "B.value_counts('degree').plot.pie();"
   ]
  },
  {
   "cell_type": "code",
   "execution_count": 25,
   "id": "ef3e9046-9473-4703-b59c-9db742b17e39",
   "metadata": {
    "tags": []
   },
   "outputs": [
    {
     "data": {
      "image/png": "[encoded data removed]",
      "text/plain": [
       "<Figure size 640x480 with 1 Axes>"
      ]
     },
     "metadata": {},
     "output_type": "display_data"
    }
   ],
   "source": [
    "I.value_counts('degree').plot.pie();"
   ]
  },
  {
   "cell_type": "code",
   "execution_count": null,
   "id": "05b2fa4a-051a-40b0-8e16-927fd9bab8ad",
   "metadata": {},
   "outputs": [],
   "source": []
  }
 ],
 "metadata": {
  "kernelspec": {
   "display_name": "Python [conda env:ds5001]",
   "language": "python",
   "name": "conda-env-ds5001-py"
  },
  "language_info": {
   "codemirror_mode": {
    "name": "ipython",
    "version": 3
   },
   "file_extension": ".py",
   "mimetype": "text/x-python",
   "name": "python",
   "nbconvert_exporter": "python",
   "pygments_lexer": "ipython3",
   "version": "3.11.5"
  },
  "widgets": {
   "application/vnd.jupyter.widget-state+json": {
    "state": {},
    "version_major": 2,
    "version_minor": 0
   }
  }
 },
 "nbformat": 4,
 "nbformat_minor": 5
}
