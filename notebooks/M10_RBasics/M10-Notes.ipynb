{
 "cells": [
  {
   "cell_type": "markdown",
   "id": "f778cc33-80bc-40f1-8bce-f87534b1a029",
   "metadata": {},
   "source": [
    "# M10 Notes"
   ]
  },
  {
   "cell_type": "markdown",
   "id": "8e0393e7-d97e-449b-adb7-d76d502506bc",
   "metadata": {},
   "source": [
    "## R vs Python\n",
    "\n",
    "- Indexing: $0$ vs $1$ based\n",
    "- Meaning of negative numbers in slices, e.g. `foo[-1]`\n",
    "- Dots"
   ]
  },
  {
   "cell_type": "markdown",
   "id": "cb3b32dc-4010-412d-a562-c1113521f02e",
   "metadata": {},
   "source": [
    "## R Data Structures\n",
    "\n",
    "| Structure   | Dim | Data Type | Shape   | Python | \n",
    "|-------------|-----|-----------|---------|--------|\n",
    "| Vector     | $1$ | uniform  | sequence | \n",
    "| Matrix    | $2$ | uniform  | square   |\n",
    "| Array      | $N$ | uniform  | cube+    | NumPy array |\n",
    "| List       | $1$ | non-uniform  | ragged | List, Dict |\n",
    "| Data Frame | $2$ | multiple | uniform | Pandas Data Frame |\n",
    "\n",
    "\n",
    "- These reflect the evolution of R.\n",
    "- We mainly use Vectors and Data Frames."
   ]
  },
  {
   "cell_type": "markdown",
   "id": "ef706ea8-e427-45c1-8e7a-2a6b9f98255c",
   "metadata": {
    "tags": []
   },
   "source": [
    "## Factors\n",
    "\n",
    "- A kind of data structure, since they organize data types.\n",
    "  - They can store both strings and integers. \n",
    "- The categorize data as _levels_. \n",
    "  - Levels are unique, like sets in Python or LOVs in SQL.\n",
    "  - Levels are stored alongside the vector.\n",
    "  - Levels constrain what can be added to the factor vector.\n",
    "  - Levels are always characters, even when the data are numeric or boolean \n",
    "- Useful in data frame columns have list of values that make sense as a group. \n",
    "    - Male, Female\n",
    "    - True, False\n",
    "    - 1, 2, 3, 4, 5\n",
    "- Created with `factor()` taking a vector as input.\n",
    "- Analagous to Categories in Pandas."
   ]
  },
  {
   "cell_type": "markdown",
   "id": "ea6da759-13fd-45b8-87bf-358f6e19bd9d",
   "metadata": {},
   "source": [
    "**Example**"
   ]
  },
  {
   "cell_type": "code",
   "execution_count": 1,
   "id": "5e67fe75-0cce-4002-9f8c-dc0cb92dbfd2",
   "metadata": {
    "tags": []
   },
   "outputs": [
    {
     "ename": "NameError",
     "evalue": "name 'c' is not defined",
     "output_type": "error",
     "traceback": [
      "\u001b[0;31m\u001b[0m",
      "\u001b[0;31mNameError\u001b[0mTraceback (most recent call last)",
      "\u001b[0;32m<ipython-input-1-aee998095c3d>\u001b[0m in \u001b[0;36m<module>\u001b[0;34m()\u001b[0m\n\u001b[0;32m----> 1\u001b[0;31m \u001b[0mv1\u001b[0m \u001b[0;34m=\u001b[0m \u001b[0mc\u001b[0m\u001b[0;34m(\u001b[0m\u001b[0;36m1\u001b[0m\u001b[0;34m,\u001b[0m\u001b[0;36m5\u001b[0m\u001b[0;34m,\u001b[0m\u001b[0;36m6\u001b[0m\u001b[0;34m,\u001b[0m\u001b[0;36m9\u001b[0m\u001b[0;34m,\u001b[0m\u001b[0;36m4\u001b[0m\u001b[0;34m,\u001b[0m\u001b[0;36m3\u001b[0m\u001b[0;34m,\u001b[0m\u001b[0;36m5\u001b[0m\u001b[0;34m,\u001b[0m\u001b[0;36m8\u001b[0m\u001b[0;34m,\u001b[0m\u001b[0;36m7\u001b[0m\u001b[0;34m,\u001b[0m\u001b[0;36m6\u001b[0m\u001b[0;34m,\u001b[0m\u001b[0;36m3\u001b[0m\u001b[0;34m,\u001b[0m\u001b[0;36m0\u001b[0m\u001b[0;34m,\u001b[0m\u001b[0;36m0\u001b[0m\u001b[0;34m,\u001b[0m\u001b[0;36m0\u001b[0m\u001b[0;34m,\u001b[0m\u001b[0;36m1\u001b[0m\u001b[0;34m,\u001b[0m\u001b[0;36m2\u001b[0m\u001b[0;34m,\u001b[0m\u001b[0;36m3\u001b[0m\u001b[0;34m,\u001b[0m\u001b[0;36m6\u001b[0m\u001b[0;34m,\u001b[0m\u001b[0;36m4\u001b[0m\u001b[0;34m,\u001b[0m\u001b[0;36m5\u001b[0m\u001b[0;34m,\u001b[0m\u001b[0;36m7\u001b[0m\u001b[0;34m,\u001b[0m\u001b[0;36m9\u001b[0m\u001b[0;34m)\u001b[0m\u001b[0;34m\u001b[0m\u001b[0m\n\u001b[0m",
      "\u001b[0;31mNameError\u001b[0m: name 'c' is not defined"
     ]
    }
   ],
   "source": [
    "v1 = c(1,5,6,9,4,3,5,8,7,6,3,0,0,0,1,2,3,6,4,5,7,9)"
   ]
  },
  {
   "cell_type": "code",
   "execution_count": null,
   "id": "c861ca1c-a6c6-4e18-a770-ffcfddaec35e",
   "metadata": {
    "tags": []
   },
   "outputs": [],
   "source": [
    "levels(v1)"
   ]
  },
  {
   "cell_type": "code",
   "execution_count": null,
   "id": "93ba4ed1-7239-4c4b-856f-06cf5b5f2b6b",
   "metadata": {
    "tags": []
   },
   "outputs": [],
   "source": [
    "f1 = factor(v1)"
   ]
  },
  {
   "cell_type": "code",
   "execution_count": null,
   "id": "31bec40b-b004-41b7-8656-b24a8c7084e6",
   "metadata": {
    "tags": []
   },
   "outputs": [],
   "source": [
    "levels(f1)"
   ]
  },
  {
   "cell_type": "code",
   "execution_count": null,
   "id": "70817fe1-a01a-4165-a74f-03c7f1c2b077",
   "metadata": {
    "tags": []
   },
   "outputs": [],
   "source": [
    "print(f1)"
   ]
  },
  {
   "cell_type": "code",
   "execution_count": null,
   "id": "30c38d54-397d-4990-844c-ab9ab5d1cb74",
   "metadata": {
    "tags": []
   },
   "outputs": [],
   "source": [
    "nlevels(f1)"
   ]
  },
  {
   "cell_type": "markdown",
   "id": "f0805cb2-d6b3-4d36-a996-7a68044e1226",
   "metadata": {},
   "source": [
    "Levels act as a constraint on the factor vector."
   ]
  },
  {
   "cell_type": "code",
   "execution_count": null,
   "id": "faecc8d2-cb88-4434-848c-2af9dc8edfdf",
   "metadata": {
    "tags": []
   },
   "outputs": [],
   "source": [
    "f1[5]"
   ]
  },
  {
   "cell_type": "code",
   "execution_count": null,
   "id": "a494306d-d55e-41fe-b6d8-fd903ccb96c4",
   "metadata": {
    "tags": []
   },
   "outputs": [],
   "source": [
    "f1[5] <- 20"
   ]
  },
  {
   "cell_type": "code",
   "execution_count": null,
   "id": "49b2a11b-eec7-4ddd-a72d-b579a903fb2c",
   "metadata": {
    "tags": []
   },
   "outputs": [],
   "source": [
    "f1"
   ]
  },
  {
   "cell_type": "code",
   "execution_count": null,
   "id": "218daf2e-40c8-4467-9ea5-229fb8287615",
   "metadata": {},
   "outputs": [],
   "source": []
  }
 ],
 "metadata": {
  "kernelspec": {
   "display_name": "RHESsys_v3",
   "language": "python",
   "name": "rhessys_python"
  },
  "language_info": {
   "codemirror_mode": {
    "name": "ipython",
    "version": 2
   },
   "file_extension": ".py",
   "mimetype": "text/x-python",
   "name": "python",
   "nbconvert_exporter": "python",
   "pygments_lexer": "ipython2",
   "version": "2.7.13"
  }
 },
 "nbformat": 4,
 "nbformat_minor": 5
}
